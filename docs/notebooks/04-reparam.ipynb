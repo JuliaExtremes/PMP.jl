{
 "cells": [
  {
   "cell_type": "code",
   "execution_count": null,
   "id": "4a672b8c",
   "metadata": {},
   "outputs": [],
   "source": [
    "using PMP, DataFrames, Distributions, Gadfly, Cairo, Fontconfig, Statistics, GLM, StatsBase"
   ]
  },
  {
   "attachments": {},
   "cell_type": "markdown",
   "id": "460d6ceb",
   "metadata": {},
   "source": [
    "\n",
    "---\n",
    "\n",
    "# Distribution A\n",
    "\n",
    "## Parameters b = 50, $\\mu$ = 1/2, $\\nu$ = 4 ($\\alpha$ = 2, $\\beta$ = 2)\n",
    "Creating samples"
   ]
  },
  {
   "cell_type": "code",
   "execution_count": null,
   "id": "55356bee",
   "metadata": {},
   "outputs": [],
   "source": [
    "d1 = PearsonType1b(50, 2, 2)\n",
    "taille = [100, 500, 1000, 2000, 5000, 8000];"
   ]
  },
  {
   "cell_type": "code",
   "execution_count": null,
   "id": "f1e91eb5",
   "metadata": {},
   "outputs": [],
   "source": [
    "nb = 100\n",
    "sample_a = Array{Float64, 2}(undef, nb, taille[1])\n",
    "sample_b = Array{Float64, 2}(undef, nb, taille[2])\n",
    "sample_c = Array{Float64, 2}(undef, nb, taille[3])\n",
    "sample_d = Array{Float64, 2}(undef, nb, taille[4])\n",
    "sample_e = Array{Float64, 2}(undef, nb, taille[5])\n",
    "sample_f = Array{Float64, 2}(undef, nb, taille[6])\n",
    "sample_names = [sample_a, sample_b, sample_c, sample_d, sample_e, sample_f]\n",
    "\n",
    "for i in 1:nb\n",
    "    for j in 1:length(sample_names)\n",
    "        sample_names[j][i, :] = rand(d1, taille[j])\n",
    "    end\n",
    "end"
   ]
  },
  {
   "attachments": {},
   "cell_type": "markdown",
   "id": "6572c7ab",
   "metadata": {},
   "source": [
    "### Mixed method"
   ]
  },
  {
   "cell_type": "code",
   "execution_count": null,
   "id": "86ea7336",
   "metadata": {},
   "outputs": [],
   "source": [
    "params_a = DataFrame(b = Float64[], μ = Float64[], ν = Float64[])\n",
    "params_b = DataFrame(b = Float64[], μ = Float64[], ν = Float64[])\n",
    "params_c = DataFrame(b = Float64[], μ = Float64[], ν = Float64[])\n",
    "params_d = DataFrame(b = Float64[], μ = Float64[], ν = Float64[])\n",
    "params_e = DataFrame(b = Float64[], μ = Float64[], ν = Float64[])\n",
    "params_f = DataFrame(b = Float64[], μ = Float64[], ν = Float64[])\n",
    "names = [params_a, params_b, params_c, params_d, params_e, params_f]\n",
    "\n",
    "for i in 1:nb\n",
    "    for j in 1:length(taille)\n",
    "        fit = getinitialvalues(PearsonType1c, sample_names[j][i, :])\n",
    "        estimation = DataFrame(b=fit[1], μ=fit[2], ν=fit[3])\n",
    "        append!(names[j], estimation)\n",
    "    end\n",
    "    print(i)\n",
    "end\n",
    "\n",
    "df1m = DataFrame(taille = taille[1], b = mean(params_a.b), μ = mean(params_a.μ), ν = mean(params_a.ν))\n",
    "\n",
    "for j in 2:length(taille)\n",
    "    append!(df1m, DataFrame(taille=taille[j], b=mean(names[j].b),  μ=mean(names[j].μ), ν=mean(names[j].ν)))\n",
    "end\n",
    "\n",
    "quantile_b = Array{Float64, 2}(undef, 2, 6)\n",
    "quantile_μ = Array{Float64, 2}(undef, 2, 6)\n",
    "quantile_ν = Array{Float64, 2}(undef, 2, 6)\n",
    "\n",
    "for j in 1:length(taille)\n",
    "    quantile_b[:,j] = quantile(names[j].b, [.025, .975])\n",
    "    quantile_μ[:,j] = quantile(names[j].μ, [.025, .975])\n",
    "    quantile_ν[:,j] = quantile(names[j].ν, [.025, .975])\n",
    "end\n",
    "\n",
    "\n",
    "df1m.bq2_5 = quantile_b[1,:]\n",
    "df1m.bq97_5 = quantile_b[2,:]\n",
    "\n",
    "df1m.μq2_5 = quantile_μ[1,:]\n",
    "df1m.μq97_5 = quantile_μ[2,:]\n",
    "\n",
    "df1m.νq2_5 = quantile_ν[1,:]\n",
    "df1m.νq97_5 = quantile_ν[2,:]\n",
    "\n",
    "df1m"
   ]
  },
  {
   "cell_type": "code",
   "execution_count": null,
   "id": "77f87e33",
   "metadata": {},
   "outputs": [],
   "source": [
    "df1m_corr = append!(params_a, params_b)\n",
    "append!(df1m_corr, params_c)\n",
    "append!(df1m_corr, params_d)\n",
    "append!(df1m_corr, params_e)\n",
    "append!(df1m_corr, params_f);"
   ]
  },
  {
   "cell_type": "code",
   "execution_count": null,
   "id": "11c1882c",
   "metadata": {},
   "outputs": [],
   "source": [
    "p1 = plot(df1m, x=:taille, y=:b, Geom.line, Geom.point, \n",
    "            layer(yintercept=[50], Theme(default_color=color(\"black\")), Geom.hline(style=:dot)), \n",
    "            layer(x=:taille, y=:bq2_5, Geom.line, Theme(default_color=color(\"red\"))),\n",
    "            layer(x=:taille, y=:bq97_5, Geom.line, Theme(default_color=color(\"red\"))),\n",
    "    Guide.Title(\"Mixed\"), Guide.xlabel(\"Size\"),\n",
    "    Coord.cartesian(ymin=44, ymax=60),\n",
    "    style(major_label_font_size=16pt, minor_label_font_size=14pt))\n",
    "p1"
   ]
  },
  {
   "attachments": {},
   "cell_type": "markdown",
   "id": "aca6ab86",
   "metadata": {},
   "source": [
    "### Maximum likelihood estimation"
   ]
  },
  {
   "cell_type": "code",
   "execution_count": null,
   "id": "928ac59b",
   "metadata": {},
   "outputs": [],
   "source": [
    "params_a = DataFrame(b = Float64[], μ = Float64[], ν = Float64[])\n",
    "params_b = DataFrame(b = Float64[], μ = Float64[], ν = Float64[])\n",
    "params_c = DataFrame(b = Float64[], μ = Float64[], ν = Float64[])\n",
    "params_d = DataFrame(b = Float64[], μ = Float64[], ν = Float64[])\n",
    "params_e = DataFrame(b = Float64[], μ = Float64[], ν = Float64[])\n",
    "params_f = DataFrame(b = Float64[], μ = Float64[], ν = Float64[])\n",
    "names = [params_a, params_b, params_c, params_d, params_e, params_f]\n",
    "\n",
    "for i in 1:nb\n",
    "    for j in 1:length(taille)\n",
    "        fit = params(fit_mle(PearsonType1c, sample_names[j][i, :]))\n",
    "        estimation = DataFrame(b=fit[1], μ=fit[2], ν=fit[3])\n",
    "        append!(names[j], estimation)\n",
    "    end\n",
    "    print(i)\n",
    "end\n",
    "\n",
    "df1mle = DataFrame(taille = taille[1], b = mean(params_a.b), μ = mean(params_a.μ), ν = mean(params_a.ν))\n",
    "\n",
    "for j in 2:length(taille)\n",
    "    append!(df1mle, DataFrame(taille=taille[j], b=mean(names[j].b),  μ=mean(names[j].μ), ν=mean(names[j].ν)))\n",
    "end\n",
    "\n",
    "quantile_b = Array{Float64, 2}(undef, 2, 6)\n",
    "quantile_μ = Array{Float64, 2}(undef, 2, 6)\n",
    "quantile_ν = Array{Float64, 2}(undef, 2, 6)\n",
    "\n",
    "for j in 1:length(taille)\n",
    "    quantile_b[:,j] = quantile(names[j].b, [.025, .975])\n",
    "    quantile_μ[:,j] = quantile(names[j].μ, [.025, .975])\n",
    "    quantile_ν[:,j] = quantile(names[j].ν, [.025, .975])\n",
    "end\n",
    "\n",
    "\n",
    "df1mle.bq2_5 = quantile_b[1,:]\n",
    "df1mle.bq97_5 = quantile_b[2,:]\n",
    "\n",
    "df1mle.μq2_5 = quantile_μ[1,:]\n",
    "df1mle.μq97_5 = quantile_μ[2,:]\n",
    "\n",
    "df1mle.νq2_5 = quantile_ν[1,:]\n",
    "df1mle.νq97_5 = quantile_ν[2,:]\n",
    "\n",
    "df1mle"
   ]
  },
  {
   "cell_type": "code",
   "execution_count": null,
   "id": "f60315ab",
   "metadata": {},
   "outputs": [],
   "source": [
    "df1mle_corr = append!(params_a, params_b)\n",
    "append!(df1mle_corr, params_c)\n",
    "append!(df1mle_corr, params_d)\n",
    "append!(df1mle_corr, params_e)\n",
    "append!(df1mle_corr, params_f);"
   ]
  },
  {
   "cell_type": "code",
   "execution_count": null,
   "id": "de62ee6d",
   "metadata": {},
   "outputs": [],
   "source": [
    "p1mle = plot(df1mle, x=:taille, y=:b, Geom.line, Geom.point, \n",
    "            layer(yintercept=[50], Theme(default_color=color(\"black\")), Geom.hline(style=:dot)), \n",
    "            layer(x=:taille, y=:bq2_5, Geom.line, Theme(default_color=color(\"red\"))),\n",
    "            layer(x=:taille, y=:bq97_5, Geom.line, Theme(default_color=color(\"red\"))),\n",
    "    Guide.Title(\"MLE\"), Guide.xlabel(\"Size\"),\n",
    "    Coord.cartesian(ymin=44, ymax=60),\n",
    "    style(major_label_font_size=16pt, minor_label_font_size=14pt))\n",
    "p1mle"
   ]
  },
  {
   "cell_type": "code",
   "execution_count": null,
   "id": "d8478b11",
   "metadata": {},
   "outputs": [],
   "source": [
    "t1 = title(hstack(p1, p1mle), \"Distribution A\")"
   ]
  },
  {
   "attachments": {},
   "cell_type": "markdown",
   "id": "5e443ba2",
   "metadata": {},
   "source": [
    "### Parameter correlation"
   ]
  },
  {
   "cell_type": "code",
   "execution_count": null,
   "id": "0fcc2db7",
   "metadata": {},
   "outputs": [],
   "source": [
    "# Mixed\n",
    "lm1m_aa = lm(@formula(μ ~ b), df1m_corr) # between b and μ\n",
    "lm1m_bb = lm(@formula(ν ~ b), df1m_corr) # between b and ν\n",
    "\n",
    "# MLE\n",
    "lm1mle_aa = lm(@formula(μ ~ b), df1mle_corr) # between b and μ\n",
    "lm1mle_bb = lm(@formula(ν ~ b), df1mle_corr) # between b and ν"
   ]
  },
  {
   "cell_type": "code",
   "execution_count": null,
   "id": "0d1bc7c8",
   "metadata": {},
   "outputs": [],
   "source": [
    "bμ_distrA = plot(df1m_corr, x=:b, y=:μ, Geom.point, color=[\"Mixed\"],\n",
    "            layer(df1mle_corr, x=:b, y=:μ, Geom.point, color=[\"MLE\"]),\n",
    "            intercept=[coef(lm1m_aa)[1], coef(lm1mle_aa)[1]], \n",
    "            slope=[coef(lm1m_aa)[2], coef(lm1mle_aa)[2]], \n",
    "            Geom.abline(color=[\"skyblue1\", \"yellow3\"], style=:dash), Guide.colorkey(\"Method\"),\n",
    "            style(major_label_font_size=16pt, minor_label_font_size=14pt, highlight_width = 0.05pt,\n",
    "                    key_title_font_size=16pt, key_label_font_size=14pt)) \n",
    "bμ_distrA"
   ]
  },
  {
   "cell_type": "code",
   "execution_count": null,
   "id": "22dc29a3",
   "metadata": {},
   "outputs": [],
   "source": [
    "bν_distrA = plot(df1m_corr, x=:b, y=:ν, Geom.point, color=[\"Mixed\"],\n",
    "            layer(df1mle_corr, x=:b, y=:ν, Geom.point, color=[\"MLE\"]),\n",
    "            intercept=[coef(lm1m_bb)[1], coef(lm1mle_bb)[1]], \n",
    "            slope=[coef(lm1m_bb)[2], coef(lm1mle_bb)[2]], \n",
    "            Geom.abline(color=[\"skyblue1\", \"yellow3\"], style=:dash), Guide.colorkey(\"Method\"),\n",
    "            style(major_label_font_size=16pt, minor_label_font_size=14pt, highlight_width = 0.05pt,\n",
    "                    key_title_font_size=16pt, key_label_font_size=14pt)) \n",
    "bν_distrA"
   ]
  },
  {
   "cell_type": "code",
   "execution_count": null,
   "id": "e1e7b3c7",
   "metadata": {},
   "outputs": [],
   "source": [
    "corr_distrA = title(hstack(bμ_distrA, bν_distrA), \"Distribution A\")"
   ]
  },
  {
   "attachments": {},
   "cell_type": "markdown",
   "id": "438bb91a",
   "metadata": {},
   "source": [
    "\n",
    "---\n",
    "# Distribution B\n",
    "\n",
    "## Parameters : b = 50, $\\mu$ = 1/4, $\\nu$ = 4 ($\\alpha$ = 1, $\\beta$ = 3)\n",
    "Creating samples"
   ]
  },
  {
   "cell_type": "code",
   "execution_count": null,
   "id": "d2edc3cf",
   "metadata": {},
   "outputs": [],
   "source": [
    "d2 = PearsonType1b(50, 1, 3)\n",
    "\n",
    "sample_a = Array{Float64, 2}(undef, nb, taille[1])\n",
    "sample_b = Array{Float64, 2}(undef, nb, taille[2])\n",
    "sample_c = Array{Float64, 2}(undef, nb, taille[3])\n",
    "sample_d = Array{Float64, 2}(undef, nb, taille[4])\n",
    "sample_e = Array{Float64, 2}(undef, nb, taille[5])\n",
    "sample_f = Array{Float64, 2}(undef, nb, taille[6])\n",
    "sample_names = [sample_a, sample_b, sample_c, sample_d, sample_e, sample_f]\n",
    "\n",
    "for i in 1:nb\n",
    "    for j in 1:length(sample_names)\n",
    "        sample_names[j][i, :] = rand(d2, taille[j])\n",
    "    end\n",
    "end"
   ]
  },
  {
   "attachments": {},
   "cell_type": "markdown",
   "id": "577e9f0e",
   "metadata": {},
   "source": [
    "### Mixed method"
   ]
  },
  {
   "cell_type": "code",
   "execution_count": null,
   "id": "8effa867",
   "metadata": {},
   "outputs": [],
   "source": [
    "params_a = DataFrame(b = Float64[], μ = Float64[], ν = Float64[])\n",
    "params_b = DataFrame(b = Float64[], μ = Float64[], ν = Float64[])\n",
    "params_c = DataFrame(b = Float64[], μ = Float64[], ν = Float64[])\n",
    "params_d = DataFrame(b = Float64[], μ = Float64[], ν = Float64[])\n",
    "params_e = DataFrame(b = Float64[], μ = Float64[], ν = Float64[])\n",
    "params_f = DataFrame(b = Float64[], μ = Float64[], ν = Float64[])\n",
    "names = [params_a, params_b, params_c, params_d, params_e, params_f]\n",
    "\n",
    "for i in 1:nb\n",
    "    for j in 1:length(taille)\n",
    "        fit = getinitialvalues(PearsonType1c, sample_names[j][i, :])\n",
    "        estimation = DataFrame(b=fit[1], μ=fit[2], ν=fit[3])\n",
    "        append!(names[j], estimation)\n",
    "    end\n",
    "    print(i)\n",
    "end\n",
    "\n",
    "df2m = DataFrame(taille = taille[1], b = mean(params_a.b), μ = mean(params_a.μ), ν = mean(params_a.ν))\n",
    "\n",
    "for j in 2:length(taille)\n",
    "    append!(df2m, DataFrame(taille=taille[j], b=mean(names[j].b),  μ=mean(names[j].μ), ν=mean(names[j].ν)))\n",
    "end\n",
    "\n",
    "quantile_b = Array{Float64, 2}(undef, 2, 6)\n",
    "quantile_μ = Array{Float64, 2}(undef, 2, 6)\n",
    "quantile_ν = Array{Float64, 2}(undef, 2, 6)\n",
    "\n",
    "for j in 1:length(taille)\n",
    "    quantile_b[:,j] = quantile(names[j].b, [.025, .975])\n",
    "    quantile_μ[:,j] = quantile(names[j].μ, [.025, .975])\n",
    "    quantile_ν[:,j] = quantile(names[j].ν, [.025, .975])\n",
    "end\n",
    "\n",
    "\n",
    "df2m.bq2_5 = quantile_b[1,:]\n",
    "df2m.bq97_5 = quantile_b[2,:]\n",
    "\n",
    "df2m.μq2_5 = quantile_μ[1,:]\n",
    "df2m.μq97_5 = quantile_μ[2,:]\n",
    "\n",
    "df2m.νq2_5 = quantile_ν[1,:]\n",
    "df2m.νq97_5 = quantile_ν[2,:]\n",
    "\n",
    "df2m"
   ]
  },
  {
   "cell_type": "code",
   "execution_count": null,
   "id": "8aa0d2d1",
   "metadata": {},
   "outputs": [],
   "source": [
    "df2m_corr = append!(params_a, params_b)\n",
    "append!(df2m_corr, params_c)\n",
    "append!(df2m_corr, params_d)\n",
    "append!(df2m_corr, params_e)\n",
    "append!(df2m_corr, params_f);"
   ]
  },
  {
   "cell_type": "code",
   "execution_count": null,
   "id": "8fbecf7d",
   "metadata": {},
   "outputs": [],
   "source": [
    "p2 = plot(df2m, x=:taille, y=:b, Geom.line, Geom.point, \n",
    "            layer(yintercept=[50], Theme(default_color=color(\"black\")), Geom.hline(style=:dot)), \n",
    "            layer(x=:taille, y=:bq2_5, Geom.line, Theme(default_color=color(\"red\"))),\n",
    "            layer(x=:taille, y=:bq97_5, Geom.line, Theme(default_color=color(\"red\"))),\n",
    "    Guide.Title(\"Mixed\"), Guide.xlabel(\"Size\"),\n",
    "    Coord.cartesian(ymin=30, ymax=70),\n",
    "    style(major_label_font_size=16pt, minor_label_font_size=14pt))\n",
    "p2"
   ]
  },
  {
   "attachments": {},
   "cell_type": "markdown",
   "id": "c6aab0a1",
   "metadata": {},
   "source": [
    "### Maximum likelihood estimation"
   ]
  },
  {
   "cell_type": "code",
   "execution_count": null,
   "id": "67343aa6",
   "metadata": {},
   "outputs": [],
   "source": [
    "params_a = DataFrame(b = Float64[], μ = Float64[], ν = Float64[])\n",
    "params_b = DataFrame(b = Float64[], μ = Float64[], ν = Float64[])\n",
    "params_c = DataFrame(b = Float64[], μ = Float64[], ν = Float64[])\n",
    "params_d = DataFrame(b = Float64[], μ = Float64[], ν = Float64[])\n",
    "params_e = DataFrame(b = Float64[], μ = Float64[], ν = Float64[])\n",
    "params_f = DataFrame(b = Float64[], μ = Float64[], ν = Float64[])\n",
    "names = [params_a, params_b, params_c, params_d, params_e, params_f]\n",
    "\n",
    "for i in 1:nb\n",
    "    for j in 1:length(taille)\n",
    "        fit = params(fit_mle(PearsonType1c, sample_names[j][i, :]))\n",
    "        estimation = DataFrame(b=fit[1], μ=fit[2], ν=fit[3])\n",
    "        append!(names[j], estimation)\n",
    "    end\n",
    "    print(i)\n",
    "end\n",
    "\n",
    "df2mle = DataFrame(taille = taille[1], b = mean(params_a.b), μ = mean(params_a.μ), ν = mean(params_a.ν))\n",
    "\n",
    "for j in 2:length(taille)\n",
    "    append!(df2mle, DataFrame(taille=taille[j], b=mean(names[j].b),  μ=mean(names[j].μ), ν=mean(names[j].ν)))\n",
    "end\n",
    "\n",
    "quantile_b = Array{Float64, 2}(undef, 2, 6)\n",
    "quantile_μ = Array{Float64, 2}(undef, 2, 6)\n",
    "quantile_ν = Array{Float64, 2}(undef, 2, 6)\n",
    "\n",
    "for j in 1:length(taille)\n",
    "    quantile_b[:,j] = quantile(names[j].b, [.025, .975])\n",
    "    quantile_μ[:,j] = quantile(names[j].μ, [.025, .975])\n",
    "    quantile_ν[:,j] = quantile(names[j].ν, [.025, .975])\n",
    "end\n",
    "\n",
    "\n",
    "df2mle.bq2_5 = quantile_b[1,:]\n",
    "df2mle.bq97_5 = quantile_b[2,:]\n",
    "\n",
    "df2mle.μq2_5 = quantile_μ[1,:]\n",
    "df2mle.μq97_5 = quantile_μ[2,:]\n",
    "\n",
    "df2mle.νq2_5 = quantile_ν[1,:]\n",
    "df2mle.νq97_5 = quantile_ν[2,:]\n",
    "\n",
    "df2mle"
   ]
  },
  {
   "cell_type": "code",
   "execution_count": null,
   "id": "77166dc6",
   "metadata": {},
   "outputs": [],
   "source": [
    "df2mle_corr = append!(params_a, params_b)\n",
    "append!(df2mle_corr, params_c)\n",
    "append!(df2mle_corr, params_d)\n",
    "append!(df2mle_corr, params_e)\n",
    "append!(df2mle_corr, params_f);"
   ]
  },
  {
   "cell_type": "code",
   "execution_count": null,
   "id": "c6f486e4",
   "metadata": {},
   "outputs": [],
   "source": [
    "p2mle = plot(df2mle, x=:taille, y=:b, Geom.line, Geom.point, \n",
    "            layer(yintercept=[50], Theme(default_color=color(\"black\")), Geom.hline(style=:dot)), \n",
    "            layer(x=:taille, y=:bq2_5, Geom.line, Theme(default_color=color(\"red\"))),\n",
    "            layer(x=:taille, y=:bq97_5, Geom.line, Theme(default_color=color(\"red\"))),\n",
    "    Guide.Title(\"MLE\"), Guide.xlabel(\"Size\"),\n",
    "    Coord.cartesian(ymin=30, ymax=70),\n",
    "    style(major_label_font_size=16pt, minor_label_font_size=14pt))\n",
    "p2mle"
   ]
  },
  {
   "cell_type": "code",
   "execution_count": null,
   "id": "6bdc47dc",
   "metadata": {},
   "outputs": [],
   "source": [
    "t2 = title(hstack(p2, p2mle), \"Distribution B\")"
   ]
  },
  {
   "attachments": {},
   "cell_type": "markdown",
   "id": "7de1d4b0",
   "metadata": {},
   "source": [
    "### Parameter correlation"
   ]
  },
  {
   "cell_type": "code",
   "execution_count": null,
   "id": "fc6d80d8",
   "metadata": {},
   "outputs": [],
   "source": [
    "# Mixed\n",
    "lm2m_aa = lm(@formula(μ ~ b), df2m_corr) # between b and μ\n",
    "lm2m_bb = lm(@formula(ν ~ b), df2m_corr) # between b and ν\n",
    "\n",
    "# MLE\n",
    "lm2mle_aa = lm(@formula(μ ~ b), df2mle_corr) # between b and μ\n",
    "lm2mle_bb = lm(@formula(ν ~ b), df2mle_corr) # between b and ν\n"
   ]
  },
  {
   "cell_type": "code",
   "execution_count": null,
   "id": "6b682886",
   "metadata": {},
   "outputs": [],
   "source": [
    "bμ_distrB = plot(df2m_corr, x=:b, y=:μ, Geom.point, color=[\"Mixed\"],\n",
    "            layer(df2mle_corr, x=:b, y=:μ, Geom.point, color=[\"MLE\"]),\n",
    "            intercept=[coef(lm2m_aa)[1], coef(lm2mle_aa)[1]], \n",
    "            slope=[coef(lm2m_aa)[2], coef(lm2mle_aa)[2]], \n",
    "            Geom.abline(color=[\"skyblue1\", \"yellow3\"], style=:dash), Guide.colorkey(\"Method\"),\n",
    "            style(major_label_font_size=16pt, minor_label_font_size=14pt, highlight_width = 0.05pt,\n",
    "                    key_title_font_size=16pt, key_label_font_size=14pt)) \n",
    "bμ_distrB"
   ]
  },
  {
   "cell_type": "code",
   "execution_count": null,
   "id": "4f0604b7",
   "metadata": {},
   "outputs": [],
   "source": [
    "bν_distrB = plot(df2m_corr, x=:b, y=:ν, Geom.point, color=[\"Mixed\"],\n",
    "            layer(df2mle_corr, x=:b, y=:ν, Geom.point, color=[\"MLE\"]),\n",
    "            intercept=[coef(lm2m_bb)[1], coef(lm2mle_bb)[1]], \n",
    "            slope=[coef(lm2m_bb)[2], coef(lm2mle_bb)[2]], \n",
    "            Geom.abline(color=[\"skyblue1\", \"yellow3\"], style=:dash), Guide.colorkey(\"Method\"),\n",
    "            style(major_label_font_size=16pt, minor_label_font_size=14pt, highlight_width = 0.05pt,\n",
    "                    key_title_font_size=16pt, key_label_font_size=14pt)) \n",
    "bν_distrB"
   ]
  },
  {
   "cell_type": "code",
   "execution_count": null,
   "id": "fe992de9",
   "metadata": {},
   "outputs": [],
   "source": [
    "corr_distrB = title(hstack(bμ_distrB, bν_distrB), \"Distribution B\")"
   ]
  },
  {
   "attachments": {},
   "cell_type": "markdown",
   "id": "7ba9091c",
   "metadata": {},
   "source": [
    "\n",
    "---\n",
    "# Distribution C\n",
    "## Parameters : b = 50, $\\mu$ = 0.1/6.1, $\\nu$ = 6.1 ($\\alpha$ = 0.1, $\\beta$ = 6)\n",
    "Creating samples"
   ]
  },
  {
   "cell_type": "code",
   "execution_count": null,
   "id": "eb86e883",
   "metadata": {},
   "outputs": [],
   "source": [
    "d3 = PearsonType1b(50, 0.1, 6)\n",
    "\n",
    "sample_a = Array{Float64, 2}(undef, nb, taille[1])\n",
    "sample_b = Array{Float64, 2}(undef, nb, taille[2])\n",
    "sample_c = Array{Float64, 2}(undef, nb, taille[3])\n",
    "sample_d = Array{Float64, 2}(undef, nb, taille[4])\n",
    "sample_e = Array{Float64, 2}(undef, nb, taille[5])\n",
    "sample_f = Array{Float64, 2}(undef, nb, taille[6])\n",
    "sample_names = [sample_a, sample_b, sample_c, sample_d, sample_e, sample_f]\n",
    "\n",
    "for i in 1:nb\n",
    "    for j in 1:length(sample_names)\n",
    "        sample_names[j][i, :] = rand(d3, taille[j])\n",
    "    end\n",
    "end"
   ]
  },
  {
   "attachments": {},
   "cell_type": "markdown",
   "id": "46bba24e",
   "metadata": {},
   "source": [
    "### Mixed method"
   ]
  },
  {
   "cell_type": "code",
   "execution_count": null,
   "id": "b81488cf",
   "metadata": {},
   "outputs": [],
   "source": [
    "params_a = DataFrame(b = Float64[], μ = Float64[], ν = Float64[])\n",
    "params_b = DataFrame(b = Float64[], μ = Float64[], ν = Float64[])\n",
    "params_c = DataFrame(b = Float64[], μ = Float64[], ν = Float64[])\n",
    "params_d = DataFrame(b = Float64[], μ = Float64[], ν = Float64[])\n",
    "params_e = DataFrame(b = Float64[], μ = Float64[], ν = Float64[])\n",
    "params_f = DataFrame(b = Float64[], μ = Float64[], ν = Float64[])\n",
    "names = [params_a, params_b, params_c, params_d, params_e, params_f]\n",
    "\n",
    "for i in 1:nb\n",
    "    for j in 1:length(taille)\n",
    "        fit = getinitialvalues(PearsonType1c, sample_names[j][i, :])\n",
    "        estimation = DataFrame(b=fit[1], μ=fit[2], ν=fit[3])\n",
    "        append!(names[j], estimation)\n",
    "    end\n",
    "    print(i)\n",
    "end\n",
    "\n",
    "df3m = DataFrame(taille = taille[1], b = mean(params_a.b), μ = mean(params_a.μ), ν = mean(params_a.ν))\n",
    "\n",
    "for j in 2:length(taille)\n",
    "    append!(df3m, DataFrame(taille=taille[j], b=mean(names[j].b),  μ=mean(names[j].μ), ν=mean(names[j].ν)))\n",
    "end\n",
    "\n",
    "quantile_b = Array{Float64, 2}(undef, 2, 6)\n",
    "quantile_μ = Array{Float64, 2}(undef, 2, 6)\n",
    "quantile_ν = Array{Float64, 2}(undef, 2, 6)\n",
    "\n",
    "for j in 1:length(taille)\n",
    "    quantile_b[:,j] = quantile(names[j].b, [.025, .975])\n",
    "    quantile_μ[:,j] = quantile(names[j].μ, [.025, .975])\n",
    "    quantile_ν[:,j] = quantile(names[j].ν, [.025, .975])\n",
    "end\n",
    "\n",
    "\n",
    "df3m.bq2_5 = quantile_b[1,:]\n",
    "df3m.bq97_5 = quantile_b[2,:]\n",
    "\n",
    "df3m.μq2_5 = quantile_μ[1,:]\n",
    "df3m.μq97_5 = quantile_μ[2,:]\n",
    "\n",
    "df3m.νq2_5 = quantile_ν[1,:]\n",
    "df3m.νq97_5 = quantile_ν[2,:]\n",
    "\n",
    "df3m"
   ]
  },
  {
   "cell_type": "code",
   "execution_count": null,
   "id": "d499c2a7",
   "metadata": {},
   "outputs": [],
   "source": [
    "df3m_corr = append!(params_a, params_b)\n",
    "append!(df3m_corr, params_c)\n",
    "append!(df3m_corr, params_d)\n",
    "append!(df3m_corr, params_e)\n",
    "append!(df3m_corr, params_f);"
   ]
  },
  {
   "cell_type": "code",
   "execution_count": null,
   "id": "9da5023e",
   "metadata": {},
   "outputs": [],
   "source": [
    "p3m = plot(df3m, x=:taille, y=:b, Geom.line, Geom.point, \n",
    "            layer(yintercept=[50], Theme(default_color=color(\"black\")), Geom.hline(style=:dot)), \n",
    "            layer(x=:taille, y=:bq2_5, Geom.line, Theme(default_color=color(\"red\"))),\n",
    "            layer(x=:taille, y=:bq97_5, Geom.line, Theme(default_color=color(\"red\"))),\n",
    "    Guide.Title(\"Mixed\"), Guide.xlabel(\"Size\"),\n",
    "    Coord.cartesian(ymin=0, ymax=200),\n",
    "    style(major_label_font_size=16pt, minor_label_font_size=14pt))\n",
    "p3m"
   ]
  },
  {
   "attachments": {},
   "cell_type": "markdown",
   "id": "fc38d310",
   "metadata": {},
   "source": [
    "### Maximum likelihood estimation"
   ]
  },
  {
   "cell_type": "code",
   "execution_count": null,
   "id": "c09ff558",
   "metadata": {},
   "outputs": [],
   "source": [
    "params_a = DataFrame(b = Float64[], μ = Float64[], ν = Float64[])\n",
    "params_b = DataFrame(b = Float64[], μ = Float64[], ν = Float64[])\n",
    "params_c = DataFrame(b = Float64[], μ = Float64[], ν = Float64[])\n",
    "params_d = DataFrame(b = Float64[], μ = Float64[], ν = Float64[])\n",
    "params_e = DataFrame(b = Float64[], μ = Float64[], ν = Float64[])\n",
    "params_f = DataFrame(b = Float64[], μ = Float64[], ν = Float64[])\n",
    "names = [params_a, params_b, params_c, params_d, params_e, params_f]\n",
    "\n",
    "for i in 1:nb\n",
    "    for j in 1:length(taille)\n",
    "        fit = params(fit_mle(PearsonType1c, sample_names[j][i, :]))\n",
    "        estimation = DataFrame(b=fit[1], μ=fit[2], ν=fit[3])\n",
    "        append!(names[j], estimation)\n",
    "    end\n",
    "    print(i)\n",
    "end\n",
    "\n",
    "df3mle = DataFrame(taille = taille[1], b = mean(params_a.b), μ = mean(params_a.μ), ν = mean(params_a.ν))\n",
    "\n",
    "for j in 2:length(taille)\n",
    "    append!(df3mle, DataFrame(taille=taille[j], b=mean(names[j].b),  μ=mean(names[j].μ), ν=mean(names[j].ν)))\n",
    "end\n",
    "\n",
    "quantile_b = Array{Float64, 2}(undef, 2, 6)\n",
    "quantile_μ = Array{Float64, 2}(undef, 2, 6)\n",
    "quantile_ν = Array{Float64, 2}(undef, 2, 6)\n",
    "\n",
    "for j in 1:length(taille)\n",
    "    quantile_b[:,j] = quantile(names[j].b, [.025, .975])\n",
    "    quantile_μ[:,j] = quantile(names[j].μ, [.025, .975])\n",
    "    quantile_ν[:,j] = quantile(names[j].ν, [.025, .975])\n",
    "end\n",
    "\n",
    "\n",
    "df3mle.bq2_5 = quantile_b[1,:]\n",
    "df3mle.bq97_5 = quantile_b[2,:]\n",
    "\n",
    "df3mle.μq2_5 = quantile_μ[1,:]\n",
    "df3mle.μq97_5 = quantile_μ[2,:]\n",
    "\n",
    "df3mle.νq2_5 = quantile_ν[1,:]\n",
    "df3mle.νq97_5 = quantile_ν[2,:]\n",
    "\n",
    "df3mle"
   ]
  },
  {
   "cell_type": "code",
   "execution_count": null,
   "id": "0f66f45a",
   "metadata": {},
   "outputs": [],
   "source": [
    "df3mle_corr = append!(params_a, params_b)\n",
    "append!(df3mle_corr, params_c)\n",
    "append!(df3mle_corr, params_d)\n",
    "append!(df3mle_corr, params_e)\n",
    "append!(df3mle_corr, params_f);"
   ]
  },
  {
   "cell_type": "code",
   "execution_count": null,
   "id": "4497d506",
   "metadata": {},
   "outputs": [],
   "source": [
    "p3mle = plot(df3mle, x=:taille, y=:b, Geom.line, Geom.point, \n",
    "            layer(yintercept=[50], Theme(default_color=color(\"black\")), Geom.hline(style=:dot)), \n",
    "            layer(x=:taille, y=:bq2_5, Geom.line, Theme(default_color=color(\"red\"))),\n",
    "            layer(x=:taille, y=:bq97_5, Geom.line, Theme(default_color=color(\"red\"))),\n",
    "    Guide.Title(\"MLE\"), Guide.xlabel(\"Size\"),\n",
    "    style(major_label_font_size=16pt, minor_label_font_size=14pt))\n",
    "p3mle"
   ]
  },
  {
   "cell_type": "code",
   "execution_count": null,
   "id": "c8c628f4",
   "metadata": {},
   "outputs": [],
   "source": [
    "t3 = title(hstack(p3m, p3mle), \"Distribution C\")"
   ]
  },
  {
   "attachments": {},
   "cell_type": "markdown",
   "id": "227f6213",
   "metadata": {},
   "source": [
    "### Parameter correlation"
   ]
  },
  {
   "cell_type": "code",
   "execution_count": null,
   "id": "5351fe27",
   "metadata": {},
   "outputs": [],
   "source": [
    "# Mixed\n",
    "lm3m_aa = lm(@formula(μ ~ b), df3m_corr) # between b and μ\n",
    "lm3m_bb = lm(@formula(ν ~ b), df3m_corr) # between b and ν\n",
    "\n",
    "# MLE\n",
    "lm3mle_aa = lm(@formula(μ ~ b), df3mle_corr)\n",
    "lm3mle_bb = lm(@formula(ν ~ b), df3mle_corr)"
   ]
  },
  {
   "cell_type": "code",
   "execution_count": null,
   "id": "15ea5d0f",
   "metadata": {},
   "outputs": [],
   "source": [
    "bμmle_distrC = plot(df3m_corr, x=:b, y=:μ, Geom.point, color=[\"Mixed\"],\n",
    "                layer(df3mle_corr, x=:b, y=:μ, Geom.point, color=[\"MLE\"]),\n",
    "            Coord.cartesian(xmax=200, ymax=0.3), Guide.colorkey(\"Method\"),\n",
    "            style(major_label_font_size=16pt, minor_label_font_size=14pt, highlight_width = 0.05pt,\n",
    "                    key_title_font_size=16pt, key_label_font_size=14pt)) \n",
    "bμmle_distrC\n",
    "\n",
    "bνmle_distrC = plot(df3m_corr, x=:b, y=:ν, Geom.point, color=[\"Mixed\"],\n",
    "                layer(df3mle_corr, x=:b, y=:ν, Geom.point, color=[\"MLE\"]),\n",
    "            intercept=[coef(lm3m_bb)[1], coef(lm3mle_bb)[1]], \n",
    "            slope=[coef(lm3m_bb)[2], coef(lm3mle_bb)[2]], \n",
    "            Coord.cartesian(xmax=500, ymax=100),\n",
    "            Geom.abline(color=[\"skyblue1\", \"yellow3\"], style=:dash), Guide.colorkey(\"Method\"),\n",
    "            style(major_label_font_size=16pt, minor_label_font_size=14pt, highlight_width = 0.05pt,\n",
    "                    key_title_font_size=16pt, key_label_font_size=14pt)) \n",
    "bνmle_distrC\n",
    "\n",
    "corr_distrC = title(hstack(bμmle_distrC, bνmle_distrC), \"Distribution C\")"
   ]
  },
  {
   "attachments": {},
   "cell_type": "markdown",
   "id": "60bff2c3",
   "metadata": {},
   "source": [
    "\n",
    "---\n",
    "# Distribution D\n",
    "## Paramètres : b = 50, $\\mu$ = 0.1/15.1, $\\nu$ = 15.1 ($\\alpha$ = 0.1, $\\beta$ = 15)\n",
    "Creating samples"
   ]
  },
  {
   "cell_type": "code",
   "execution_count": null,
   "id": "b23abf00",
   "metadata": {},
   "outputs": [],
   "source": [
    "d4 = PearsonType1b(50, 0.1, 15)\n",
    "\n",
    "sample_a = Array{Float64, 2}(undef, nb, taille[1])\n",
    "sample_b = Array{Float64, 2}(undef, nb, taille[2])\n",
    "sample_c = Array{Float64, 2}(undef, nb, taille[3])\n",
    "sample_d = Array{Float64, 2}(undef, nb, taille[4])\n",
    "sample_e = Array{Float64, 2}(undef, nb, taille[5])\n",
    "sample_f = Array{Float64, 2}(undef, nb, taille[6])\n",
    "sample_names = [sample_a, sample_b, sample_c, sample_d, sample_e, sample_f]\n",
    "\n",
    "for i in 1:nb\n",
    "    for j in 1:length(sample_names)\n",
    "        sample_names[j][i, :] = rand(d4, taille[j])\n",
    "    end\n",
    "end"
   ]
  },
  {
   "attachments": {},
   "cell_type": "markdown",
   "id": "f2dd5052",
   "metadata": {},
   "source": [
    "### Mixed method"
   ]
  },
  {
   "cell_type": "code",
   "execution_count": null,
   "id": "e2ed377e",
   "metadata": {},
   "outputs": [],
   "source": [
    "params_a = DataFrame(b = Float64[], μ = Float64[], ν = Float64[])\n",
    "params_b = DataFrame(b = Float64[], μ = Float64[], ν = Float64[])\n",
    "params_c = DataFrame(b = Float64[], μ = Float64[], ν = Float64[])\n",
    "params_d = DataFrame(b = Float64[], μ = Float64[], ν = Float64[])\n",
    "params_e = DataFrame(b = Float64[], μ = Float64[], ν = Float64[])\n",
    "params_f = DataFrame(b = Float64[], μ = Float64[], ν = Float64[])\n",
    "names = [params_a, params_b, params_c, params_d, params_e, params_f]\n",
    "\n",
    "for i in 1:nb\n",
    "    for j in 1:length(taille)\n",
    "        fit = getinitialvalues(PearsonType1c, sample_names[j][i, :])\n",
    "        estimation = DataFrame(b=fit[1], μ=fit[2], ν=fit[3])\n",
    "        append!(names[j], estimation)\n",
    "    end\n",
    "    print(i)\n",
    "end\n",
    "\n",
    "df4m = DataFrame(taille = taille[1], b = mean(params_a.b), μ = mean(params_a.μ), ν = mean(params_a.ν))\n",
    "\n",
    "for j in 2:length(taille)\n",
    "    append!(df4m, DataFrame(taille=taille[j], b=mean(names[j].b),  μ=mean(names[j].μ), ν=mean(names[j].ν)))\n",
    "end\n",
    "\n",
    "quantile_b = Array{Float64, 2}(undef, 2, 6)\n",
    "quantile_μ = Array{Float64, 2}(undef, 2, 6)\n",
    "quantile_ν = Array{Float64, 2}(undef, 2, 6)\n",
    "\n",
    "for j in 1:length(taille)\n",
    "    quantile_b[:,j] = quantile(names[j].b, [.025, .975])\n",
    "    quantile_μ[:,j] = quantile(names[j].μ, [.025, .975])\n",
    "    quantile_ν[:,j] = quantile(names[j].ν, [.025, .975])\n",
    "end\n",
    "\n",
    "\n",
    "df4m.bq2_5 = quantile_b[1,:]\n",
    "df4m.bq97_5 = quantile_b[2,:]\n",
    "\n",
    "df4m.μq2_5 = quantile_μ[1,:]\n",
    "df4m.μq97_5 = quantile_μ[2,:]\n",
    "\n",
    "df4m.νq2_5 = quantile_ν[1,:]\n",
    "df4m.νq97_5 = quantile_ν[2,:]\n",
    "\n",
    "df4m"
   ]
  },
  {
   "cell_type": "code",
   "execution_count": null,
   "id": "a7ed2235",
   "metadata": {},
   "outputs": [],
   "source": [
    "df4m_corr = append!(params_a, params_b)\n",
    "append!(df4m_corr, params_c)\n",
    "append!(df4m_corr, params_d)\n",
    "append!(df4m_corr, params_e)\n",
    "append!(df4m_corr, params_f);"
   ]
  },
  {
   "cell_type": "code",
   "execution_count": null,
   "id": "ad0e46a3",
   "metadata": {},
   "outputs": [],
   "source": [
    "p4 = plot(df4m, x=:taille, y=:b, Geom.line, Geom.point, \n",
    "            layer(yintercept=[50], Theme(default_color=color(\"black\")), Geom.hline(style=:dot)), \n",
    "            layer(x=:taille, y=:bq2_5, Geom.line, Theme(default_color=color(\"red\"))),\n",
    "            layer(x=:taille, y=:bq97_5, Geom.line, Theme(default_color=color(\"red\"))),\n",
    "    Guide.Title(\"Mixed\"), Guide.xlabel(\"Size\"),\n",
    "    Coord.cartesian(ymin=0, ymax=300),\n",
    "    style(major_label_font_size=16pt, minor_label_font_size=14pt))\n",
    "p4"
   ]
  },
  {
   "attachments": {},
   "cell_type": "markdown",
   "id": "8b031782",
   "metadata": {},
   "source": [
    "### Maximum likelihood estimation"
   ]
  },
  {
   "cell_type": "code",
   "execution_count": null,
   "id": "80759d29",
   "metadata": {},
   "outputs": [],
   "source": [
    "params_a = DataFrame(b = Float64[], μ = Float64[], ν = Float64[])\n",
    "params_b = DataFrame(b = Float64[], μ = Float64[], ν = Float64[])\n",
    "params_c = DataFrame(b = Float64[], μ = Float64[], ν = Float64[])\n",
    "params_d = DataFrame(b = Float64[], μ = Float64[], ν = Float64[])\n",
    "params_e = DataFrame(b = Float64[], μ = Float64[], ν = Float64[])\n",
    "params_f = DataFrame(b = Float64[], μ = Float64[], ν = Float64[])\n",
    "names = [params_a, params_b, params_c, params_d, params_e, params_f]\n",
    "\n",
    "for i in 1:nb\n",
    "    for j in 1:length(taille)\n",
    "        fit = params(fit_mle(PearsonType1c, sample_names[j][i, :]))\n",
    "        estimation = DataFrame(b=fit[1], μ=fit[2], ν=fit[3])\n",
    "        append!(names[j], estimation)\n",
    "    end\n",
    "    print(i)\n",
    "end\n",
    "\n",
    "df4mle = DataFrame(taille = taille[1], b = mean(params_a.b), μ = mean(params_a.μ), ν = mean(params_a.ν))\n",
    "\n",
    "for j in 2:length(taille)\n",
    "    append!(df4mle, DataFrame(taille=taille[j], b=mean(names[j].b),  μ=mean(names[j].μ), ν=mean(names[j].ν)))\n",
    "end\n",
    "\n",
    "quantile_b = Array{Float64, 2}(undef, 2, 6)\n",
    "quantile_μ = Array{Float64, 2}(undef, 2, 6)\n",
    "quantile_ν = Array{Float64, 2}(undef, 2, 6)\n",
    "\n",
    "for j in 1:length(taille)\n",
    "    quantile_b[:,j] = quantile(names[j].b, [.025, .975])\n",
    "    quantile_μ[:,j] = quantile(names[j].μ, [.025, .975])\n",
    "    quantile_ν[:,j] = quantile(names[j].ν, [.025, .975])\n",
    "end\n",
    "\n",
    "\n",
    "df4mle.bq2_5 = quantile_b[1,:]\n",
    "df4mle.bq97_5 = quantile_b[2,:]\n",
    "\n",
    "df4mle.μq2_5 = quantile_μ[1,:]\n",
    "df4mle.μq97_5 = quantile_μ[2,:]\n",
    "\n",
    "df4mle.νq2_5 = quantile_ν[1,:]\n",
    "df4mle.νq97_5 = quantile_ν[2,:]\n",
    "\n",
    "df4mle"
   ]
  },
  {
   "cell_type": "code",
   "execution_count": null,
   "id": "4e40f828",
   "metadata": {},
   "outputs": [],
   "source": [
    "df4mle_corr = append!(params_a, params_b)\n",
    "append!(df4mle_corr, params_c)\n",
    "append!(df4mle_corr, params_d)\n",
    "append!(df4mle_corr, params_e)\n",
    "append!(df4mle_corr, params_f);"
   ]
  },
  {
   "cell_type": "code",
   "execution_count": null,
   "id": "54f0258a",
   "metadata": {},
   "outputs": [],
   "source": [
    "p4mle = plot(df4mle, x=:taille, y=:b, Geom.line, Geom.point, \n",
    "            layer(yintercept=[50], Theme(default_color=color(\"black\")), Geom.hline(style=:dot)), \n",
    "            layer(x=:taille, y=:bq2_5, Geom.line, Theme(default_color=color(\"red\"))),\n",
    "            layer(x=:taille, y=:bq97_5, Geom.line, Theme(default_color=color(\"red\"))),\n",
    "    Guide.Title(\"MLE\"), Guide.xlabel(\"Size\"),\n",
    "    style(major_label_font_size=16pt, minor_label_font_size=14pt))\n",
    "p4mle"
   ]
  },
  {
   "cell_type": "code",
   "execution_count": null,
   "id": "ea44b72d",
   "metadata": {},
   "outputs": [],
   "source": [
    "t4 = title(hstack(p4, p4mle), \"Distribution D\")"
   ]
  },
  {
   "attachments": {},
   "cell_type": "markdown",
   "id": "f18df2ed",
   "metadata": {},
   "source": [
    "### Parameter correlation"
   ]
  },
  {
   "cell_type": "code",
   "execution_count": null,
   "id": "ff86393d",
   "metadata": {},
   "outputs": [],
   "source": [
    "# Mixed\n",
    "lm4m_aa = lm(@formula(μ ~ b), df4m_corr)\n",
    "lm4m_bb = lm(@formula(ν ~ b), df4m_corr)\n",
    "\n",
    "# MLE\n",
    "lm4mle_aa = lm(@formula(μ ~ b), df4mle_corr)\n",
    "lm4mle_bb = lm(@formula(ν ~ b), df4mle_corr)"
   ]
  },
  {
   "cell_type": "code",
   "execution_count": null,
   "id": "62eec44e",
   "metadata": {},
   "outputs": [],
   "source": [
    "bμmle_distrD = plot(df4m_corr, x=:b, y=:μ, Geom.point, color=[\"Mixed\"],\n",
    "    layer(df4mle_corr, x=:b, y=:μ, Geom.point, color=[\"MLE\"]),\n",
    "    Coord.cartesian(ymax=0.4, xmax=1000, xmin=0), Guide.colorkey(\"Méthode\"),\n",
    "            style(major_label_font_size=16pt, minor_label_font_size=14pt, highlight_width = 0.05pt,\n",
    "                    key_title_font_size=16pt, key_label_font_size=14pt)) \n",
    "bμmle_distrD\n",
    "\n",
    "bνmle_distrD = plot(df4m_corr, x=:b, y=:ν, Geom.point, color=[\"Mixed\"],\n",
    "            layer(df4mle_corr, x=:b, y=:ν, Geom.point, color=[\"MLE\"]),\n",
    "            intercept=[coef(lm4m_bb)[1], coef(lm4mle_bb)[1]], \n",
    "            slope=[coef(lm4m_bb)[2], coef(lm4mle_bb)[2]], \n",
    "            Geom.abline(color=[\"skyblue1\", \"yellow3\"], style=:dash), Guide.colorkey(\"Method\"),\n",
    "            Coord.cartesian(ymax=1000, xmax=500),\n",
    "            style(major_label_font_size=16pt, minor_label_font_size=14pt, highlight_width = 0.05pt,\n",
    "                    key_title_font_size=16pt, key_label_font_size=14pt)) \n",
    "bνmle_distrD\n",
    "\n",
    "corr_distrDmle = title(hstack(bμmle_distrD, bνmle_distrD), \"Distribution D\")"
   ]
  }
 ],
 "metadata": {
  "kernelspec": {
   "display_name": "Julia 1.9.3",
   "language": "julia",
   "name": "julia-1.9"
  },
  "language_info": {
   "file_extension": ".jl",
   "mimetype": "application/julia",
   "name": "julia",
   "version": "1.9.3"
  }
 },
 "nbformat": 4,
 "nbformat_minor": 5
}
