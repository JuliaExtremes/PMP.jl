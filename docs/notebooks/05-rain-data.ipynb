{
 "cells": [
  {
   "cell_type": "code",
   "execution_count": null,
   "id": "036bdbec",
   "metadata": {},
   "outputs": [],
   "source": [
    "using PMP, CSV, DataFrames, Distributions, Gadfly, Statistics, Cairo, Fontconfig, Dates"
   ]
  },
  {
   "cell_type": "code",
   "execution_count": null,
   "id": "80f75f67",
   "metadata": {},
   "outputs": [],
   "source": [
    "function qqplot(y::Vector, pd_fit, title)\n",
    "    y = sort(y)\n",
    "    n = length(y)\n",
    "    \n",
    "    i = 1:n\n",
    "    xp = i/(n+1)\n",
    "    \n",
    "    x = quantile.(pd_fit, xp)  # model quantile\n",
    "    \n",
    "    plot(x=x, y=y, Geom.point, Geom.abline(color=\"red\", style=:dash),\n",
    "        style(major_label_font_size=16pt, minor_label_font_size=14pt, highlight_width = 0.05pt),\n",
    "        Guide.ylabel(\"Empirical quantile\"), Guide.xlabel(\"Model quantile\"), Guide.title(title))\n",
    "end"
   ]
  },
  {
   "cell_type": "code",
   "execution_count": null,
   "id": "c5847c99",
   "metadata": {},
   "outputs": [],
   "source": [
    "function ppplot(y::Vector, pd_fit, title)\n",
    "    y = sort(y)\n",
    "    n = length(y)\n",
    "    \n",
    "    i = 1:n\n",
    "    xp = i/(n+1)\n",
    "    \n",
    "    yp = cdf.(pd_fit, y)\n",
    "    \n",
    "    plot(x=xp, y=yp, Geom.point, Geom.abline(color=\"red\", style=:dash),\n",
    "        style(major_label_font_size=16pt, minor_label_font_size=14pt, highlight_width = 0.05pt),\n",
    "        Guide.ylabel(\"Model probability\"), Guide.xlabel(\"Empirical probability\"), Guide.title(title))\n",
    "end"
   ]
  },
  {
   "attachments": {},
   "cell_type": "markdown",
   "id": "1da917e8",
   "metadata": {},
   "source": [
    "---\n",
    "# Fit on observed precipitation datasets\n",
    "---\n",
    "## International Pierre-Elliott-Trudeau Airport of Montréal"
   ]
  },
  {
   "cell_type": "code",
   "execution_count": null,
   "id": "e340e201",
   "metadata": {},
   "outputs": [],
   "source": [
    "mtl_intla = CSV.read(\"rain-mtl.csv\", DataFrame)\n",
    "recent = CSV.read(\"rain_mtl_recent.csv\", DataFrame)\n",
    "append!(mtl_intla, recent);"
   ]
  },
  {
   "cell_type": "code",
   "execution_count": null,
   "id": "c7c884c5",
   "metadata": {},
   "outputs": [],
   "source": [
    "hist_mtl = plot(x=mtl_intla.Rain, Geom.histogram(bincount=50), \n",
    "            Guide.title(\"Observed precipitations at Montréal Pierre-Elliott-Trudeau station\"),\n",
    "            Guide.xlabel(\"Precipitations in mm\"))\n",
    "draw(PNG(\"figures-03/hist_mtl.png\"), hist_mtl)\n",
    "hist_mtl"
   ]
  },
  {
   "cell_type": "code",
   "execution_count": null,
   "id": "f9feb221",
   "metadata": {},
   "outputs": [],
   "source": [
    "length(mtl_intla.Rain)"
   ]
  },
  {
   "cell_type": "code",
   "execution_count": null,
   "id": "6de25472",
   "metadata": {},
   "outputs": [],
   "source": [
    "maximum(mtl_intla.Rain)"
   ]
  },
  {
   "attachments": {},
   "cell_type": "markdown",
   "id": "b59a4ad4",
   "metadata": {},
   "source": [
    "### 3 parameters Pearson de type I\n",
    "#### Mixed"
   ]
  },
  {
   "cell_type": "code",
   "execution_count": null,
   "id": "8690f95f",
   "metadata": {},
   "outputs": [],
   "source": [
    "fit_21 = getinitialvalues(PearsonType1b, mtl_intla.Rain)"
   ]
  },
  {
   "cell_type": "code",
   "execution_count": null,
   "id": "87b24a55",
   "metadata": {},
   "outputs": [],
   "source": [
    "qq21 = qqplot(mtl_intla.Rain, PearsonType1b(fit_21...), \"Mixed\");"
   ]
  },
  {
   "cell_type": "code",
   "execution_count": null,
   "id": "70a0f155",
   "metadata": {},
   "outputs": [],
   "source": [
    "pp21 = ppplot(mtl_intla.Rain, PearsonType1b(fit_21...), \"Mixed\");"
   ]
  },
  {
   "attachments": {},
   "cell_type": "markdown",
   "id": "433c78ce",
   "metadata": {},
   "source": [
    "#### MM"
   ]
  },
  {
   "cell_type": "code",
   "execution_count": null,
   "id": "3f546e0e",
   "metadata": {},
   "outputs": [],
   "source": [
    "fit_22 = fit_mme(PearsonType1b, mtl_intla.Rain)"
   ]
  },
  {
   "cell_type": "code",
   "execution_count": null,
   "id": "1358b9ad",
   "metadata": {},
   "outputs": [],
   "source": [
    "qq22 = qqplot(mtl_intla.Rain, fit_22, \"MM\");"
   ]
  },
  {
   "cell_type": "code",
   "execution_count": null,
   "id": "ec399d73",
   "metadata": {},
   "outputs": [],
   "source": [
    "pp22 = ppplot(mtl_intla.Rain, fit_22, \"MM\");"
   ]
  },
  {
   "attachments": {},
   "cell_type": "markdown",
   "id": "446218af",
   "metadata": {},
   "source": [
    "#### Gibbs"
   ]
  },
  {
   "cell_type": "code",
   "execution_count": null,
   "id": "1becbdc6",
   "metadata": {},
   "outputs": [],
   "source": [
    "fit_23 = fit_bayes_MH(PearsonType1b, mtl_intla.Rain)"
   ]
  },
  {
   "cell_type": "code",
   "execution_count": null,
   "id": "f2cd6e78",
   "metadata": {},
   "outputs": [],
   "source": [
    "df23_mtl = DataFrame([:b=>fit_23[1], :α=>fit_23[2], :β=>fit_23[3]]);"
   ]
  },
  {
   "cell_type": "code",
   "execution_count": null,
   "id": "afd292c0",
   "metadata": {},
   "outputs": [],
   "source": [
    "d_23 = PearsonType1b(mean(df23_mtl.b), mean(df23_mtl.α), mean(df23_mtl.β))"
   ]
  },
  {
   "cell_type": "code",
   "execution_count": null,
   "id": "1ed5e5db",
   "metadata": {},
   "outputs": [],
   "source": [
    "l1=layer(x=mtl_intla.Rain, Geom.histogram(bincount=75, density=true))\n",
    "l2=layer(x->pdf(d_23, x), 0, 85, color=[\"Gibbs\"])\n",
    "l3=layer(x->pdf(PearsonType1b(fit_21...), x), 0, 85, color=[\"Mixed\"])\n",
    "l4=layer(x->pdf(fit_22, x), 0, 85, color=[\"MM\"])\n",
    "plot(l2, l3, l4, l1, Coord.cartesian(xmin=66, xmax=84, ymax=0.0005), Guide.xlabel(\"Precipitations in mm\"),\n",
    "    Scale.color_discrete_manual(colorant\"yellow3\",colorant\"palevioletred2\",\n",
    "                                              colorant\"mediumpurple1\"),\n",
    "    style(major_label_font_size=16pt, minor_label_font_size=14pt, \n",
    "                  key_title_font_size=16pt, key_label_font_size=14pt, line_width=1.5pt),\n",
    "    Guide.colorkey(\"Method\"), Guide.ylabel(\"\"))"
   ]
  },
  {
   "cell_type": "code",
   "execution_count": null,
   "id": "935de7fd",
   "metadata": {},
   "outputs": [],
   "source": [
    "hist1 = plot(yintercept=[mean(df23_mtl.b)], Geom.hline(style=:dot, color=[colorant\"chartreuse4\"]),\n",
    "    layer(y=df23_mtl.b, Geom.histogram(bincount=20, orientation=:horizontal)), \n",
    "    Guide.ylabel(\"b\"),\n",
    "    style(major_label_font_size=16pt, minor_label_font_size=14pt, highlight_width = 0.05pt))\n",
    "hist2 = plot(yintercept=[mean(df23_mtl.α)], Geom.hline(style=:dot, color=[colorant\"chartreuse4\"]),\n",
    "    layer(y=df23_mtl.α, Geom.histogram(bincount=20, orientation=:horizontal), color=[colorant\"yellow3\"]), \n",
    "    Guide.ylabel(\"α\"),\n",
    "    style(major_label_font_size=16pt, minor_label_font_size=14pt, highlight_width = 0.05pt))\n",
    "hist3 = plot(yintercept=[mean(df23_mtl.β)], Geom.hline(style=:dot, color=[colorant\"chartreuse4\"]),\n",
    "    layer(y=df23_mtl.β, Geom.histogram(bincount=20, orientation=:horizontal),color=[colorant\"palevioletred2\"]), \n",
    "    Guide.ylabel(\"β\"),\n",
    "    style(major_label_font_size=16pt, minor_label_font_size=14pt, highlight_width = 0.05pt))"
   ]
  },
  {
   "cell_type": "code",
   "execution_count": null,
   "id": "526a93ce",
   "metadata": {},
   "outputs": [],
   "source": [
    "trace1 = plot(yintercept=[mean(df23_mtl.b)], Geom.hline(style=:dot, color=[colorant\"chartreuse4\"]),\n",
    "    layer(y=df23_mtl.b, Geom.line), Coord.cartesian(xmax=1550),\n",
    "    style(major_label_font_size=16pt, minor_label_font_size=14pt, highlight_width = 0.05pt),\n",
    "    Guide.ylabel(\" \"))\n",
    "trace2 = plot(yintercept=[mean(df23_mtl.α)], Geom.hline(style=:dot, color=[colorant\"chartreuse4\"]),\n",
    "    layer(y=df23_mtl.α, Geom.line, color=[colorant\"yellow3\"]), Coord.cartesian(xmax=1550),\n",
    "    style(major_label_font_size=16pt, minor_label_font_size=14pt, highlight_width = 0.05pt),\n",
    "    Guide.ylabel(\" \"))\n",
    "trace3 = plot(yintercept=[mean(df23_mtl.β)], Geom.hline(style=:dot, color=[colorant\"chartreuse4\"]),\n",
    "    layer(y=df23_mtl.β, Geom.line, color=[colorant\"palevioletred2\"]), Coord.cartesian(xmax=1550),\n",
    "    style(major_label_font_size=16pt, minor_label_font_size=14pt, highlight_width = 0.05pt),\n",
    "    Guide.ylabel(\" \"))\n",
    "\n",
    "trace_mtl = title(gridstack([hist1 trace1; hist2 trace2; hist3 trace3]), \"Model with a=0\")"
   ]
  },
  {
   "cell_type": "code",
   "execution_count": null,
   "id": "56aff1e9",
   "metadata": {},
   "outputs": [],
   "source": [
    "qq23 = qqplot(mtl_intla.Rain, d_23, \"Gibbs\")\n",
    "draw(PNG(\"figures-09/qq23.png\", 6inch, 6inch), qq23)\n",
    "\n",
    "pp23 = ppplot(mtl_intla.Rain, d_23, \"Gibbs\")\n",
    "draw(PNG(\"figures-09/pp23.png\", 6inch, 6inch), pp23)"
   ]
  },
  {
   "cell_type": "code",
   "execution_count": null,
   "id": "b3ddd2e0",
   "metadata": {},
   "outputs": [],
   "source": [
    "qq_2 = title(gridstack([qq22 qq21 qq23; pp22 pp21 pp23]), \"Model with a=0\")"
   ]
  },
  {
   "attachments": {},
   "cell_type": "markdown",
   "id": "b2a8b052",
   "metadata": {},
   "source": [
    "### 4 parameters Pearson de type I with a = 0.2 fixed\n",
    "#### Mixed"
   ]
  },
  {
   "cell_type": "code",
   "execution_count": null,
   "id": "66721843",
   "metadata": {},
   "outputs": [],
   "source": [
    "fit_31 = getinitialvalues(PearsonType1, mtl_intla.Rain, 0.2)"
   ]
  },
  {
   "cell_type": "code",
   "execution_count": null,
   "id": "35154755",
   "metadata": {},
   "outputs": [],
   "source": [
    "qq31 = qqplot(mtl_intla.Rain, PearsonType1(fit_31...), \"Mixed\")\n",
    "\n",
    "pp31 = ppplot(mtl_intla.Rain, PearsonType1(fit_31...), \"Mixed\")"
   ]
  },
  {
   "attachments": {},
   "cell_type": "markdown",
   "id": "d36fe28a",
   "metadata": {},
   "source": [
    "#### MM"
   ]
  },
  {
   "cell_type": "code",
   "execution_count": null,
   "id": "bb5e4e8d",
   "metadata": {},
   "outputs": [],
   "source": [
    "fit_32 = fit_mme(PearsonType1, mtl_intla.Rain, 0.2)"
   ]
  },
  {
   "cell_type": "code",
   "execution_count": null,
   "id": "904f50fc",
   "metadata": {},
   "outputs": [],
   "source": [
    "qq32 = qqplot(mtl_intla.Rain, fit_32, \"MM\")\n",
    "\n",
    "pp32 = ppplot(mtl_intla.Rain, fit_32, \"MM\")"
   ]
  },
  {
   "attachments": {},
   "cell_type": "markdown",
   "id": "114f6fa6",
   "metadata": {},
   "source": [
    "#### Gibbs"
   ]
  },
  {
   "cell_type": "code",
   "execution_count": null,
   "id": "7c3619e3",
   "metadata": {},
   "outputs": [],
   "source": [
    "fit_33 = fit_bayes_MH(PearsonType1, mtl_intla.Rain, 0.199)"
   ]
  },
  {
   "cell_type": "code",
   "execution_count": null,
   "id": "3e95a498",
   "metadata": {},
   "outputs": [],
   "source": [
    "df33_mtl = DataFrame([:b=>fit_33[1], :α=>fit_33[2], :β=>fit_33[3]]);"
   ]
  },
  {
   "cell_type": "code",
   "execution_count": null,
   "id": "a522fe9c",
   "metadata": {},
   "outputs": [],
   "source": [
    "d_33 = PearsonType1(0.2, mean(df33_mtl.b), mean(df33_mtl.α), mean(df33_mtl.β))"
   ]
  },
  {
   "cell_type": "code",
   "execution_count": null,
   "id": "afa06dcd",
   "metadata": {},
   "outputs": [],
   "source": [
    "hist12 = plot(yintercept=[mean(df33_mtl.b)], Geom.hline(style=:dot, color=[colorant\"chartreuse4\"]),\n",
    "    layer(y=df33_mtl.b, Geom.histogram(bincount=20, orientation=:horizontal)), Guide.ylabel(\"b\"),\n",
    "    style(major_label_font_size=16pt, minor_label_font_size=14pt, highlight_width = 0.05pt))\n",
    "hist22 = plot(yintercept=[mean(df33_mtl.α)], Geom.hline(style=:dot, color=[colorant\"chartreuse4\"]),\n",
    "    layer(y=df33_mtl.α, Geom.histogram(bincount=20, orientation=:horizontal), color=[colorant\"yellow3\"]), \n",
    "    Guide.ylabel(\"α\"),\n",
    "    style(major_label_font_size=16pt, minor_label_font_size=14pt, highlight_width = 0.05pt))\n",
    "hist32 = plot(yintercept=[mean(df33_mtl.β)], Geom.hline(style=:dot, color=[colorant\"chartreuse4\"]),\n",
    "    layer(y=df33_mtl.β, Geom.histogram(bincount=20, orientation=:horizontal),color=[colorant\"palevioletred2\"]), \n",
    "    Guide.ylabel(\"β\"),\n",
    "    style(major_label_font_size=16pt, minor_label_font_size=14pt, highlight_width = 0.05pt))"
   ]
  },
  {
   "cell_type": "code",
   "execution_count": null,
   "id": "9bebbc06",
   "metadata": {},
   "outputs": [],
   "source": [
    "trace12 = plot(yintercept=[mean(df33_mtl.b)], Geom.hline(style=:dot, color=[colorant\"chartreuse4\"]),\n",
    "    layer(y=df33_mtl.b, Geom.line), Coord.cartesian(xmax=1550),\n",
    "    style(major_label_font_size=16pt, minor_label_font_size=14pt, highlight_width = 0.05pt),\n",
    "    Guide.ylabel(\" \"))\n",
    "trace22 = plot(yintercept=[mean(df33_mtl.α)], Geom.hline(style=:dot, color=[colorant\"chartreuse4\"]),\n",
    "    layer(y=df33_mtl.α, Geom.line, color=[colorant\"yellow3\"]), Coord.cartesian(xmax=1550),\n",
    "    style(major_label_font_size=16pt, minor_label_font_size=14pt, highlight_width = 0.05pt),\n",
    "    Guide.ylabel(\" \"))\n",
    "trace32 = plot(yintercept=[mean(df33_mtl.β)], Geom.hline(style=:dot, color=[colorant\"chartreuse4\"]),\n",
    "    layer(y=df33_mtl.β, Geom.line, color=[colorant\"palevioletred2\"]), Coord.cartesian(xmax=1550),\n",
    "    style(major_label_font_size=16pt, minor_label_font_size=14pt, highlight_width = 0.05pt),\n",
    "    Guide.ylabel(\" \"))\n",
    "\n",
    "trace_mtl2 = title(gridstack([hist12 trace12; hist22 trace22; hist32 trace32]), \"Model with a=0.2\")"
   ]
  },
  {
   "cell_type": "code",
   "execution_count": null,
   "id": "ae941161",
   "metadata": {},
   "outputs": [],
   "source": [
    "qq33 = qqplot(mtl_intla.Rain, d_33, \"Gibbs\")\n",
    "\n",
    "pp33 = ppplot(mtl_intla.Rain, d_33, \"Gibbs\")"
   ]
  },
  {
   "cell_type": "code",
   "execution_count": null,
   "id": "3b81788e",
   "metadata": {},
   "outputs": [],
   "source": [
    "qq_3 = title(gridstack([qq32 qq31 qq33; pp32 pp31 pp33]), \"Modèle avec a=0.2\")"
   ]
  },
  {
   "attachments": {},
   "cell_type": "markdown",
   "id": "91dfe1e3",
   "metadata": {},
   "source": [
    "\n",
    "---\n",
    "## St-Hubert"
   ]
  },
  {
   "cell_type": "code",
   "execution_count": null,
   "id": "dc4b9032",
   "metadata": {},
   "outputs": [],
   "source": [
    "sh_data = CSV.read(\"rain-sh.csv\", DataFrame);"
   ]
  },
  {
   "cell_type": "code",
   "execution_count": null,
   "id": "7b2b1f34",
   "metadata": {},
   "outputs": [],
   "source": [
    "hist_sh = plot(x=sh_data.Rain, Geom.histogram(bincount=500), \n",
    "            Guide.title(\"Observed precipitations at Saint-Hubert station\"),\n",
    "            Guide.xlabel(\"Precipitations in mm\"))"
   ]
  },
  {
   "cell_type": "code",
   "execution_count": null,
   "id": "20c48342",
   "metadata": {},
   "outputs": [],
   "source": [
    "length(sh_data.Rain)"
   ]
  },
  {
   "cell_type": "code",
   "execution_count": null,
   "id": "c7dbaa61",
   "metadata": {},
   "outputs": [],
   "source": [
    "maximum(sh_data.Rain)"
   ]
  },
  {
   "attachments": {},
   "cell_type": "markdown",
   "id": "18778ddc",
   "metadata": {},
   "source": [
    "### 3 parameters Pearson de type I\n",
    "#### Mixed"
   ]
  },
  {
   "cell_type": "code",
   "execution_count": null,
   "id": "d00aabef",
   "metadata": {},
   "outputs": [],
   "source": [
    "fit_21 = getinitialvalues(PearsonType1b, sh_data.Rain)"
   ]
  },
  {
   "cell_type": "code",
   "execution_count": null,
   "id": "0ddaa3a3",
   "metadata": {},
   "outputs": [],
   "source": [
    "qq21 = qqplot(sh_data.Rain, PearsonType1b(fit_21...), \"Mixed\");\n",
    "\n",
    "pp21 = ppplot(sh_data.Rain, PearsonType1b(fit_21...), \"Mixed\");"
   ]
  },
  {
   "attachments": {},
   "cell_type": "markdown",
   "id": "ccded833",
   "metadata": {},
   "source": [
    "#### MM"
   ]
  },
  {
   "cell_type": "code",
   "execution_count": null,
   "id": "97619a3a",
   "metadata": {},
   "outputs": [],
   "source": [
    "fit_22 = fit_mme(PearsonType1b, sh_data.Rain)"
   ]
  },
  {
   "cell_type": "code",
   "execution_count": null,
   "id": "03523493",
   "metadata": {},
   "outputs": [],
   "source": [
    "qq22 = qqplot(sh_data.Rain, fit_22, \"MM\");\n",
    "\n",
    "pp22 = ppplot(sh_data.Rain, fit_22, \"MM\");"
   ]
  },
  {
   "attachments": {},
   "cell_type": "markdown",
   "id": "0a1b89c2",
   "metadata": {},
   "source": [
    "#### Gibbs"
   ]
  },
  {
   "cell_type": "code",
   "execution_count": null,
   "id": "9f14aa26",
   "metadata": {},
   "outputs": [],
   "source": [
    "fit_23 = fit_bayes_MH(PearsonType1b, sh_data.Rain)"
   ]
  },
  {
   "cell_type": "code",
   "execution_count": null,
   "id": "41bed081",
   "metadata": {},
   "outputs": [],
   "source": [
    "df23_sh = DataFrame([:b=>fit_23[1], :α=>fit_23[2], :β=>fit_23[3]]);"
   ]
  },
  {
   "cell_type": "code",
   "execution_count": null,
   "id": "a286c3c8",
   "metadata": {},
   "outputs": [],
   "source": [
    "d23 = PearsonType1b(mean(df23_sh.b), mean(df23_sh.α), mean(df23_sh.β))"
   ]
  },
  {
   "cell_type": "code",
   "execution_count": null,
   "id": "4cabacb1",
   "metadata": {},
   "outputs": [],
   "source": [
    "hist13 = plot(yintercept=[mean(df23_sh.b)], Geom.hline(style=:dot, color=[colorant\"chartreuse4\"]),\n",
    "    layer(y=df23_sh.b, Geom.histogram(bincount=20, orientation=:horizontal)), Guide.ylabel(\"b\"),\n",
    "    style(major_label_font_size=16pt, minor_label_font_size=14pt, highlight_width = 0.05pt))\n",
    "hist23 = plot(yintercept=[mean(df23_sh.α)], Geom.hline(style=:dot, color=[colorant\"chartreuse4\"]),\n",
    "    layer(y=df23_sh.α, Geom.histogram(bincount=20, orientation=:horizontal), color=[colorant\"yellow3\"]), \n",
    "    Guide.ylabel(\"α\"),\n",
    "    style(major_label_font_size=16pt, minor_label_font_size=14pt, highlight_width = 0.05pt))\n",
    "hist33 = plot(yintercept=[mean(df23_sh.β)], Geom.hline(style=:dot, color=[colorant\"chartreuse4\"]),\n",
    "    layer(y=df23_sh.β, Geom.histogram(bincount=20, orientation=:horizontal),color=[colorant\"palevioletred2\"]), \n",
    "    Guide.ylabel(\"β\"),\n",
    "    style(major_label_font_size=16pt, minor_label_font_size=14pt, highlight_width = 0.05pt))"
   ]
  },
  {
   "cell_type": "code",
   "execution_count": null,
   "id": "8c077a9f",
   "metadata": {},
   "outputs": [],
   "source": [
    "trace13 = plot(yintercept=[mean(df23_sh.b)], Geom.hline(style=:dot, color=[colorant\"chartreuse4\"]),\n",
    "    layer(y=df23_sh.b, Geom.line), Coord.cartesian(xmax=1550),\n",
    "    style(major_label_font_size=16pt, minor_label_font_size=14pt, highlight_width = 0.05pt),\n",
    "    Guide.ylabel(\" \"))\n",
    "trace23 = plot(yintercept=[mean(df23_sh.α)], Geom.hline(style=:dot, color=[colorant\"chartreuse4\"]),\n",
    "    layer(y=df23_sh.α, Geom.line, color=[colorant\"yellow3\"]), Coord.cartesian(xmax=1550),\n",
    "    style(major_label_font_size=16pt, minor_label_font_size=14pt, highlight_width = 0.05pt),\n",
    "    Guide.ylabel(\" \"))\n",
    "trace33 = plot(yintercept=[mean(df23_sh.β)], Geom.hline(style=:dot, color=[colorant\"chartreuse4\"]),\n",
    "    layer(y=df23_sh.β, Geom.line, color=[colorant\"palevioletred2\"]), Coord.cartesian(xmax=1550),\n",
    "    style(major_label_font_size=16pt, minor_label_font_size=14pt, highlight_width = 0.05pt),\n",
    "    Guide.ylabel(\" \"))\n",
    "\n",
    "trace_sh = title(gridstack([hist13 trace13; hist23 trace23; hist33 trace33]), \"Model with a=0\")"
   ]
  },
  {
   "cell_type": "code",
   "execution_count": null,
   "id": "5b2b8546",
   "metadata": {},
   "outputs": [],
   "source": [
    "qq23 = qqplot(sh_data.Rain, d23, \"Gibbs\");\n",
    "\n",
    "pp23 = ppplot(sh_data.Rain, d23, \"Gibbs\");"
   ]
  },
  {
   "cell_type": "code",
   "execution_count": null,
   "id": "27a0717a",
   "metadata": {},
   "outputs": [],
   "source": [
    "qq_2 = title(gridstack([qq22 qq21 qq23; pp22 pp21 pp23]), \"Model with a=0\")"
   ]
  },
  {
   "attachments": {},
   "cell_type": "markdown",
   "id": "1464102b",
   "metadata": {},
   "source": [
    "### 4 parameters Pearson de type with a = 0.2 fixed\n",
    "#### Mixed"
   ]
  },
  {
   "cell_type": "code",
   "execution_count": null,
   "id": "33aa8552",
   "metadata": {},
   "outputs": [],
   "source": [
    "fit_31 = getinitialvalues(PearsonType1, sh_data.Rain, 0.2)"
   ]
  },
  {
   "cell_type": "code",
   "execution_count": null,
   "id": "bca452da",
   "metadata": {},
   "outputs": [],
   "source": [
    "qq31 = qqplot(sh_data.Rain, PearsonType1(fit_31...), \"Mixed\");\n",
    "\n",
    "pp31 = ppplot(sh_data.Rain, PearsonType1(fit_31...), \"Mixed\");"
   ]
  },
  {
   "attachments": {},
   "cell_type": "markdown",
   "id": "c80c7008",
   "metadata": {},
   "source": [
    "#### MM"
   ]
  },
  {
   "cell_type": "code",
   "execution_count": null,
   "id": "8da8a492",
   "metadata": {},
   "outputs": [],
   "source": [
    "fit_32 = fit_mme(PearsonType1, sh_data.Rain, 0.2)"
   ]
  },
  {
   "cell_type": "code",
   "execution_count": null,
   "id": "32149781",
   "metadata": {},
   "outputs": [],
   "source": [
    "qq32 = qqplot(sh_data.Rain, fit_32, \"MM\");\n",
    "\n",
    "pp32 = ppplot(sh_data.Rain, fit_32, \"MM\");"
   ]
  },
  {
   "attachments": {},
   "cell_type": "markdown",
   "id": "e6499fb1",
   "metadata": {},
   "source": [
    "#### Gibbs"
   ]
  },
  {
   "cell_type": "code",
   "execution_count": null,
   "id": "36d31f5e",
   "metadata": {},
   "outputs": [],
   "source": [
    "fit_33 = fit_bayes_MH(PearsonType1, sh_data.Rain, 0.199)"
   ]
  },
  {
   "cell_type": "code",
   "execution_count": null,
   "id": "fe3a9953",
   "metadata": {},
   "outputs": [],
   "source": [
    "df33_sh = DataFrame([:b=>fit_33[1], :α=>fit_33[2], :β=>fit_33[3]]);"
   ]
  },
  {
   "cell_type": "code",
   "execution_count": null,
   "id": "764f4b85",
   "metadata": {},
   "outputs": [],
   "source": [
    "d33 = PearsonType1(0.2, mean(df33_sh.b), mean(df33_sh.α), mean(df33_sh.β))"
   ]
  },
  {
   "cell_type": "code",
   "execution_count": null,
   "id": "f34cdd75",
   "metadata": {},
   "outputs": [],
   "source": [
    "hist14 = plot(yintercept=[mean(df33_sh.b)], Geom.hline(style=:dot, color=[colorant\"chartreuse4\"]),\n",
    "    layer(y=df33_sh.b, Geom.histogram(bincount=20, orientation=:horizontal)), Guide.ylabel(\"b\"),\n",
    "    style(major_label_font_size=16pt, minor_label_font_size=14pt, highlight_width = 0.05pt))\n",
    "hist24 = plot(yintercept=[mean(df33_sh.α)], Geom.hline(style=:dot, color=[colorant\"chartreuse4\"]),\n",
    "    layer(y=df33_sh.α, Geom.histogram(bincount=20, orientation=:horizontal), color=[colorant\"yellow3\"]), \n",
    "    Guide.ylabel(\"α\"),\n",
    "    style(major_label_font_size=16pt, minor_label_font_size=14pt, highlight_width = 0.05pt))\n",
    "hist34 = plot(yintercept=[mean(df33_sh.β)], Geom.hline(style=:dot, color=[colorant\"chartreuse4\"]),\n",
    "    layer(y=df33_sh.β, Geom.histogram(bincount=20, orientation=:horizontal),color=[colorant\"palevioletred2\"]), \n",
    "    Guide.ylabel(\"β\"),\n",
    "    style(major_label_font_size=16pt, minor_label_font_size=14pt, highlight_width = 0.05pt))"
   ]
  },
  {
   "cell_type": "code",
   "execution_count": null,
   "id": "dd6854d0",
   "metadata": {},
   "outputs": [],
   "source": [
    "trace14 = plot(yintercept=[mean(df33_sh.b)], Geom.hline(style=:dot, color=[colorant\"chartreuse4\"]),\n",
    "    layer(y=df33_sh.b, Geom.line), Coord.cartesian(xmax=1550),\n",
    "    style(major_label_font_size=16pt, minor_label_font_size=14pt, highlight_width = 0.05pt),\n",
    "    Guide.ylabel(\" \"))\n",
    "trace24 = plot(yintercept=[mean(df33_sh.α)], Geom.hline(style=:dot, color=[colorant\"chartreuse4\"]),\n",
    "    layer(y=df33_sh.α, Geom.line, color=[colorant\"yellow3\"]), Coord.cartesian(xmax=1550),\n",
    "    style(major_label_font_size=16pt, minor_label_font_size=14pt, highlight_width = 0.05pt),\n",
    "    Guide.ylabel(\" \"))\n",
    "trace34 = plot(yintercept=[mean(df33_sh.β)], Geom.hline(style=:dot, color=[colorant\"chartreuse4\"]),\n",
    "    layer(y=df33_sh.β, Geom.line, color=[colorant\"palevioletred2\"]), Coord.cartesian(xmax=1550),\n",
    "    style(major_label_font_size=16pt, minor_label_font_size=14pt, highlight_width = 0.05pt),\n",
    "    Guide.ylabel(\" \"))\n",
    "\n",
    "trace_sh2 = title(gridstack([hist14 trace14; hist24 trace24; hist34 trace34]), \"Model with a=0.2\")"
   ]
  },
  {
   "cell_type": "code",
   "execution_count": null,
   "id": "18f3821b",
   "metadata": {},
   "outputs": [],
   "source": [
    "qq33 = qqplot(sh_data.Rain, d33, \"Gibbs\");\n",
    "\n",
    "pp33 = ppplot(sh_data.Rain, d33, \"Gibbs\");"
   ]
  },
  {
   "cell_type": "code",
   "execution_count": null,
   "id": "4f63c267",
   "metadata": {},
   "outputs": [],
   "source": [
    "qq_3 = title(gridstack([qq32 qq31 qq33; pp32 pp31 pp33]), \"Model with a=0.2\")"
   ]
  }
 ],
 "metadata": {
  "kernelspec": {
   "display_name": "Julia 1.9.3",
   "language": "julia",
   "name": "julia-1.9"
  },
  "language_info": {
   "file_extension": ".jl",
   "mimetype": "application/julia",
   "name": "julia",
   "version": "1.9.3"
  }
 },
 "nbformat": 4,
 "nbformat_minor": 5
}
