{
 "cells": [
  {
   "cell_type": "code",
   "execution_count": null,
   "id": "242b35c5",
   "metadata": {},
   "outputs": [],
   "source": [
    "using Distributions, Statistics, CSV, DataFrames, Gadfly, PMP, Cairo, Fontconfig, Optim, Random"
   ]
  },
  {
   "attachments": {},
   "cell_type": "markdown",
   "id": "3f158696",
   "metadata": {},
   "source": [
    "This notebook creates multiple samples out of a Pearson type I distribution with a=0 fixed, b = 50, $\\alpha$ = 1 and $\\beta$ = 3. Then, it fits models to those samples. This notebook tests 6 different sample sizes (100, 500, 1000, 2000, 5000, 8000), with each having 100 samples.\n",
    "\n",
    "This code is not optimized. The running time can be very long.\n",
    "\n",
    "---\n",
    "## Distribution B\n",
    "### Parameters b=50, $\\alpha$=1, $\\beta$=3\n",
    "### Size = 100"
   ]
  },
  {
   "cell_type": "code",
   "execution_count": null,
   "id": "dc62a21e",
   "metadata": {},
   "outputs": [],
   "source": [
    "d2 = PearsonType1b(50, 1, 3)\n",
    "taille = 100;\n",
    "nb = 100;"
   ]
  },
  {
   "cell_type": "code",
   "execution_count": null,
   "id": "b5728c32",
   "metadata": {},
   "outputs": [],
   "source": [
    "sample_a = CSV.read(\"sample-d2-a.csv\", DataFrame);"
   ]
  },
  {
   "attachments": {},
   "cell_type": "markdown",
   "id": "4adcf0dc",
   "metadata": {},
   "source": [
    "#### Gibbs\n",
    "Doesn't converge for all samples"
   ]
  },
  {
   "cell_type": "code",
   "execution_count": null,
   "id": "6b5577fe",
   "metadata": {},
   "outputs": [],
   "source": [
    "# Gibbs\n",
    "params_a = DataFrame(b = Float64[], α = Float64[], β = Float64[])\n",
    "\n",
    "for i in 1:100\n",
    "    fit = fit_bayes_MH(PearsonType1b, sample_a[!,i])\n",
    "    estimation = DataFrame(b=mean(fit[1]), α=mean(fit[2]), β=mean(fit[3]))\n",
    "    append!(params_a, estimation)\n",
    "    print(i)\n",
    "end\n",
    "\n",
    "df21 = DataFrame(taille = 100, b = mean(params_a.b), α = mean(params_a.α), β = mean(params_a.β))\n",
    "\n",
    "quantile_b = quantile(params_a.b, [.025, .975])\n",
    "quantile_α = quantile(params_a.α, [.025, .975])\n",
    "quantile_β = quantile(params_a.β, [.025, .975])\n",
    "\n",
    "df21.bq2_5 = [quantile_b[1]]\n",
    "df21.bq97_5 = [quantile_b[2]]\n",
    "\n",
    "df21.αq2_5 = [quantile_α[1]]\n",
    "df21.αq97_5 = [quantile_α[2]]\n",
    "\n",
    "df21.βq2_5 = [quantile_β[1]]\n",
    "df21.βq97_5 = [quantile_β[2]]\n",
    "\n",
    "df21"
   ]
  },
  {
   "attachments": {},
   "cell_type": "markdown",
   "id": "feff3ce7",
   "metadata": {},
   "source": [
    "#### NUTS\n",
    "Doesn't converge for all samples"
   ]
  },
  {
   "cell_type": "code",
   "execution_count": null,
   "id": "5bcdb0cf",
   "metadata": {},
   "outputs": [],
   "source": [
    "\n",
    "params_an = DataFrame(b = Float64[], α = Float64[], β = Float64[])\n",
    "\n",
    "for i in 1:100\n",
    "    fit = fit_bayes(PearsonType1b, sample_a[!,i])\n",
    "    estimation = DataFrame(b=mean(fit[1]), α=mean(fit[2]), β=mean(fit[3]))\n",
    "    append!(params_an, estimation)\n",
    "    print(i)\n",
    "end\n",
    "\n",
    "df21n = DataFrame(taille = 100, b = mean(params_an.b), α = mean(params_an.α), β = mean(params_an.β))\n",
    "\n",
    "quantile_b = quantile(params_an.b, [.025, .975])\n",
    "quantile_α = quantile(params_an.α, [.025, .975])\n",
    "quantile_β = quantile(params_an.β, [.025, .975])\n",
    "\n",
    "df21n.bq2_5 = [quantile_b[1]]\n",
    "df21n.bq97_5 = [quantile_b[2]]\n",
    "\n",
    "df21n.αq2_5 = [quantile_α[1]]\n",
    "df21n.αq97_5 = [quantile_α[2]]\n",
    "\n",
    "df21n.βq2_5 = [quantile_β[1]]\n",
    "df21n.βq97_5 = [quantile_β[2]]\n",
    "\n",
    "df21n"
   ]
  },
  {
   "attachments": {},
   "cell_type": "markdown",
   "id": "1ac9f945",
   "metadata": {},
   "source": [
    "\n",
    "---\n",
    "### Size = 500"
   ]
  },
  {
   "cell_type": "code",
   "execution_count": null,
   "id": "f688c83c",
   "metadata": {},
   "outputs": [],
   "source": [
    "taille = 500\n",
    "sample_b = CSV.read(\"sample-d2-b.csv\", DataFrame);"
   ]
  },
  {
   "attachments": {},
   "cell_type": "markdown",
   "id": "65b6f00d",
   "metadata": {},
   "source": [
    "#### Gibbs"
   ]
  },
  {
   "cell_type": "code",
   "execution_count": null,
   "id": "e71bcdc4",
   "metadata": {},
   "outputs": [],
   "source": [
    "params_b = DataFrame(b = Float64[], α = Float64[], β = Float64[])\n",
    "\n",
    "for i in 1:100\n",
    "    fit = fit_bayes_MH(PearsonType1b, sample_b[!,i])\n",
    "    estimation = DataFrame(b=mean(fit[1]), α=mean(fit[2]), β=mean(fit[3]))\n",
    "    append!(params_b, estimation)\n",
    "    print(i)\n",
    "end\n",
    "\n",
    "df22 = DataFrame(taille = 500, b = mean(params_b.b), α = mean(params_b.α), β = mean(params_b.β))\n",
    "\n",
    "quantile_b = quantile(params_b.b, [.025, .975])\n",
    "quantile_α = quantile(params_b.α, [.025, .975])\n",
    "quantile_β = quantile(params_b.β, [.025, .975])\n",
    "\n",
    "df22.bq2_5 = [quantile_b[1]]\n",
    "df22.bq97_5 = [quantile_b[2]]\n",
    "\n",
    "df22.αq2_5 = [quantile_α[1]]\n",
    "df22.αq97_5 = [quantile_α[2]]\n",
    "\n",
    "df22.βq2_5 = [quantile_β[1]]\n",
    "df22.βq97_5 = [quantile_β[2]]\n",
    "\n",
    "df22"
   ]
  },
  {
   "attachments": {},
   "cell_type": "markdown",
   "id": "cea91274",
   "metadata": {},
   "source": [
    "#### NUTS"
   ]
  },
  {
   "cell_type": "code",
   "execution_count": null,
   "id": "f350431e",
   "metadata": {},
   "outputs": [],
   "source": [
    "params_bn = DataFrame(b = Float64[], α = Float64[], β = Float64[])\n",
    "\n",
    "for i in 1:100\n",
    "    fit = fit_bayes(PearsonType1b, sample_b[!, i])\n",
    "    estimation = DataFrame(b=mean(fit[1]), α=mean(fit[2]), β=mean(fit[3]))\n",
    "    append!(params_bn, estimation)\n",
    "    print(i)\n",
    "end\n",
    "\n",
    "df22n = DataFrame(taille = 500, b = mean(params_bn.b), α = mean(params_bn.α), β = mean(params_bn.β))\n",
    "\n",
    "quantile_b = quantile(params_bn.b, [.025, .975])\n",
    "quantile_α = quantile(params_bn.α, [.025, .975])\n",
    "quantile_β = quantile(params_bn.β, [.025, .975])\n",
    "\n",
    "df22n.bq2_5 = [quantile_b[1]]\n",
    "df22n.bq97_5 = [quantile_b[2]]\n",
    "\n",
    "df22n.αq2_5 = [quantile_α[1]]\n",
    "df22n.αq97_5 = [quantile_α[2]]\n",
    "\n",
    "df22n.βq2_5 = [quantile_β[1]]\n",
    "df22n.βq97_5 = [quantile_β[2]]\n",
    "\n",
    "df22n"
   ]
  },
  {
   "attachments": {},
   "cell_type": "markdown",
   "id": "1bb9a53f",
   "metadata": {},
   "source": [
    "\n",
    "---\n",
    "### Size = 1000"
   ]
  },
  {
   "cell_type": "code",
   "execution_count": null,
   "id": "060d9cc9",
   "metadata": {},
   "outputs": [],
   "source": [
    "taille = 1000\n",
    "sample_c = CSV.read(\"sample-d2-c.csv\", DataFrame);"
   ]
  },
  {
   "attachments": {},
   "cell_type": "markdown",
   "id": "72068716",
   "metadata": {},
   "source": [
    "#### Gibbs"
   ]
  },
  {
   "cell_type": "code",
   "execution_count": null,
   "id": "f8d81254",
   "metadata": {},
   "outputs": [],
   "source": [
    "params_c = DataFrame(b = Float64[], α = Float64[], β = Float64[])\n",
    "\n",
    "for i in 1:100\n",
    "    fit = fit_bayes_MH(PearsonType1b, sample_c[!,i])\n",
    "    estimation = DataFrame(b=mean(fit[1]), α=mean(fit[2]), β=mean(fit[3]))\n",
    "    append!(params_c, estimation)\n",
    "    print(i)\n",
    "end\n",
    "\n",
    "df23 = DataFrame(taille = 1000, b = mean(params_c.b), α = mean(params_c.α), β = mean(params_c.β))\n",
    "\n",
    "quantile_b = quantile(params_c.b, [.025, .975])\n",
    "quantile_α = quantile(params_c.α, [.025, .975])\n",
    "quantile_β = quantile(params_c.β, [.025, .975])\n",
    "\n",
    "df23.bq2_5 = [quantile_b[1]]\n",
    "df23.bq97_5 = [quantile_b[2]]\n",
    "\n",
    "df23.αq2_5 = [quantile_α[1]]\n",
    "df23.αq97_5 = [quantile_α[2]]\n",
    "\n",
    "df23.βq2_5 = [quantile_β[1]]\n",
    "df23.βq97_5 = [quantile_β[2]]\n",
    "\n",
    "df23"
   ]
  },
  {
   "attachments": {},
   "cell_type": "markdown",
   "id": "27acdc99",
   "metadata": {},
   "source": [
    "#### NUTS"
   ]
  },
  {
   "cell_type": "code",
   "execution_count": null,
   "id": "a8010bb7",
   "metadata": {},
   "outputs": [],
   "source": [
    "params_cn = DataFrame(b = Float64[], α = Float64[], β = Float64[])\n",
    "\n",
    "for i in 1:100\n",
    "    fit = fit_bayes(PearsonType1b, sample_c[!,i])\n",
    "    estimation = DataFrame(b=mean(fit[1]), α=mean(fit[2]), β=mean(fit[3]))\n",
    "    append!(params_cn, estimation)\n",
    "    print(i)\n",
    "end\n",
    "\n",
    "df23n = DataFrame(taille = 1000, b = mean(params_cn.b), α = mean(params_cn.α), β = mean(params_cn.β))\n",
    "\n",
    "quantile_b = quantile(params_cn.b, [.025, .975])\n",
    "quantile_α = quantile(params_cn.α, [.025, .975])\n",
    "quantile_β = quantile(params_cn.β, [.025, .975])\n",
    "\n",
    "df23n.bq2_5 = [quantile_b[1]]\n",
    "df23n.bq97_5 = [quantile_b[2]]\n",
    "\n",
    "df23n.αq2_5 = [quantile_α[1]]\n",
    "df23n.αq97_5 = [quantile_α[2]]\n",
    "\n",
    "df23n.βq2_5 = [quantile_β[1]]\n",
    "df23n.βq97_5 = [quantile_β[2]]\n",
    "\n",
    "df23n"
   ]
  },
  {
   "attachments": {},
   "cell_type": "markdown",
   "id": "4e07e439",
   "metadata": {},
   "source": [
    "\n",
    "---\n",
    "### Size = 2000"
   ]
  },
  {
   "cell_type": "code",
   "execution_count": null,
   "id": "1a939274",
   "metadata": {},
   "outputs": [],
   "source": [
    "taille = 2000\n",
    "sample_d = CSV.read(\"sample-d2-d.csv\", DataFrame);"
   ]
  },
  {
   "attachments": {},
   "cell_type": "markdown",
   "id": "a4e3b140",
   "metadata": {},
   "source": [
    "#### Gibbs"
   ]
  },
  {
   "cell_type": "code",
   "execution_count": null,
   "id": "1051e601",
   "metadata": {},
   "outputs": [],
   "source": [
    "params_d = DataFrame(b = Float64[], α = Float64[], β = Float64[])\n",
    "\n",
    "for i in 1:100\n",
    "    fit = fit_bayes_MH(PearsonType1b, sample_d[!,i])\n",
    "    estimation = DataFrame(b=mean(fit[1]), α=mean(fit[2]), β=mean(fit[3]))\n",
    "    append!(params_d, estimation)\n",
    "    print(i)\n",
    "end\n",
    "\n",
    "df24 = DataFrame(taille = 2000, b = mean(params_d.b), α = mean(params_d.α), β = mean(params_d.β))\n",
    "\n",
    "quantile_b = quantile(params_d.b, [.025, .975])\n",
    "quantile_α = quantile(params_d.α, [.025, .975])\n",
    "quantile_β = quantile(params_d.β, [.025, .975])\n",
    "\n",
    "df24.bq2_5 = [quantile_b[1]]\n",
    "df24.bq97_5 = [quantile_b[2]]\n",
    "\n",
    "df24.αq2_5 = [quantile_α[1]]\n",
    "df24.αq97_5 = [quantile_α[2]]\n",
    "\n",
    "df24.βq2_5 = [quantile_β[1]]\n",
    "df24.βq97_5 = [quantile_β[2]]\n",
    "\n",
    "df24"
   ]
  },
  {
   "attachments": {},
   "cell_type": "markdown",
   "id": "8184dfd9",
   "metadata": {},
   "source": [
    "#### NUTS"
   ]
  },
  {
   "cell_type": "code",
   "execution_count": null,
   "id": "6cd19ae1",
   "metadata": {},
   "outputs": [],
   "source": [
    "params_dn = DataFrame(b = Float64[], α = Float64[], β = Float64[])\n",
    "\n",
    "for i in 1:100\n",
    "    fit = fit_bayes(PearsonType1b, sample_d[!,i])\n",
    "    estimation = DataFrame(b=mean(fit[1]), α=mean(fit[2]), β=mean(fit[3]))\n",
    "    append!(params_dn, estimation)\n",
    "    print(i)\n",
    "end\n",
    "\n",
    "df24n = DataFrame(taille = 2000, b = mean(params_dn.b), α = mean(params_dn.α), β = mean(params_dn.β))\n",
    "\n",
    "quantile_b = quantile(params_dn.b, [.025, .975])\n",
    "quantile_α = quantile(params_dn.α, [.025, .975])\n",
    "quantile_β = quantile(params_dn.β, [.025, .975])\n",
    "\n",
    "df24n.bq2_5 = [quantile_b[1]]\n",
    "df24n.bq97_5 = [quantile_b[2]]\n",
    "\n",
    "df24n.αq2_5 = [quantile_α[1]]\n",
    "df24n.αq97_5 = [quantile_α[2]]\n",
    "\n",
    "df24n.βq2_5 = [quantile_β[1]]\n",
    "df24n.βq97_5 = [quantile_β[2]]\n",
    "\n",
    "df24n"
   ]
  },
  {
   "attachments": {},
   "cell_type": "markdown",
   "id": "994fd7cd",
   "metadata": {},
   "source": [
    "\n",
    "---\n",
    "### Size = 5000"
   ]
  },
  {
   "cell_type": "code",
   "execution_count": null,
   "id": "441156de",
   "metadata": {},
   "outputs": [],
   "source": [
    "taille = 5000\n",
    "sample_e = CSV.read(\"sample-d2-e.csv\", DataFrame);"
   ]
  },
  {
   "attachments": {},
   "cell_type": "markdown",
   "id": "cb918e89",
   "metadata": {},
   "source": [
    "#### Gibbs"
   ]
  },
  {
   "cell_type": "code",
   "execution_count": null,
   "id": "293986fd",
   "metadata": {},
   "outputs": [],
   "source": [
    "params_e = DataFrame(b = Float64[], α = Float64[], β = Float64[])\n",
    "\n",
    "for i in 1:100\n",
    "    fit = fit_bayes_MH(PearsonType1b, sample_e[!,i])\n",
    "    estimation = DataFrame(b=mean(fit[1]), α=mean(fit[2]), β=mean(fit[3]))\n",
    "    append!(params_e, estimation)\n",
    "    print(i)\n",
    "end\n",
    "\n",
    "df25 = DataFrame(taille = 5000, b = mean(params_e.b), α = mean(params_e.α), β = mean(params_e.β))\n",
    "\n",
    "quantile_b = quantile(params_e.b, [.025, .975])\n",
    "quantile_α = quantile(params_e.α, [.025, .975])\n",
    "quantile_β = quantile(params_e.β, [.025, .975])\n",
    "\n",
    "df25.bq2_5 = [quantile_b[1]]\n",
    "df25.bq97_5 = [quantile_b[2]]\n",
    "\n",
    "df25.αq2_5 = [quantile_α[1]]\n",
    "df25.αq97_5 = [quantile_α[2]]\n",
    "\n",
    "df25.βq2_5 = [quantile_β[1]]\n",
    "df25.βq97_5 = [quantile_β[2]]\n",
    "\n",
    "df25"
   ]
  },
  {
   "attachments": {},
   "cell_type": "markdown",
   "id": "66d2ab49",
   "metadata": {},
   "source": [
    "#### NUTS"
   ]
  },
  {
   "cell_type": "code",
   "execution_count": null,
   "id": "3b7c9dd3",
   "metadata": {},
   "outputs": [],
   "source": [
    "params_en = DataFrame(b = Float64[], α = Float64[], β = Float64[])\n",
    "\n",
    "for i in 1:100\n",
    "    fit = fit_bayes(PearsonType1b, sample_e[!,i])\n",
    "    estimation = DataFrame(b=mean(fit[1]), α=mean(fit[2]), β=mean(fit[3]))\n",
    "    append!(params_en, estimation)\n",
    "    print(i)\n",
    "end\n",
    "\n",
    "df25n = DataFrame(taille = 5000, b = mean(params_en.b), α = mean(params_en.α), β = mean(params_en.β))\n",
    "\n",
    "quantile_b = quantile(params_en.b, [.025, .975])\n",
    "quantile_α = quantile(params_en.α, [.025, .975])\n",
    "quantile_β = quantile(params_en.β, [.025, .975])\n",
    "\n",
    "df25n.bq2_5 = [quantile_b[1]]\n",
    "df25n.bq97_5 = [quantile_b[2]]\n",
    "\n",
    "df25n.αq2_5 = [quantile_α[1]]\n",
    "df25n.αq97_5 = [quantile_α[2]]\n",
    "\n",
    "df25n.βq2_5 = [quantile_β[1]]\n",
    "df25n.βq97_5 = [quantile_β[2]]\n",
    "\n",
    "df25n"
   ]
  },
  {
   "attachments": {},
   "cell_type": "markdown",
   "id": "30587287",
   "metadata": {},
   "source": [
    "\n",
    "---\n",
    "### Size = 8000"
   ]
  },
  {
   "cell_type": "code",
   "execution_count": null,
   "id": "08627cc0",
   "metadata": {},
   "outputs": [],
   "source": [
    "taille = 8000\n",
    "sample_f = CSV.read(\"sample-d2-f.csv\", DataFrame);"
   ]
  },
  {
   "attachments": {},
   "cell_type": "markdown",
   "id": "1afda88e",
   "metadata": {},
   "source": [
    "#### Gibbs"
   ]
  },
  {
   "cell_type": "code",
   "execution_count": null,
   "id": "a1e4d3da",
   "metadata": {},
   "outputs": [],
   "source": [
    "params_f = DataFrame(b = Float64[], α = Float64[], β = Float64[])\n",
    "\n",
    "for i in 1:100\n",
    "    fit = fit_bayes_MH(PearsonType1b, sample_f[!,i])\n",
    "    estimation = DataFrame(b=mean(fit[1]), α=mean(fit[2]), β=mean(fit[3]))\n",
    "    append!(params_f, estimation)\n",
    "    print(i)\n",
    "end\n",
    "\n",
    "df26 = DataFrame(taille = 8000, b = mean(params_f.b), α = mean(params_f.α), β = mean(params_f.β))\n",
    "\n",
    "quantile_b = quantile(params_f.b, [.025, .975])\n",
    "quantile_α = quantile(params_f.α, [.025, .975])\n",
    "quantile_β = quantile(params_f.β, [.025, .975])\n",
    "\n",
    "df26.bq2_5 = [quantile_b[1]]\n",
    "df26.bq97_5 = [quantile_b[2]]\n",
    "\n",
    "df26.αq2_5 = [quantile_α[1]]\n",
    "df26.αq97_5 = [quantile_α[2]]\n",
    "\n",
    "df26.βq2_5 = [quantile_β[1]]\n",
    "df26.βq97_5 = [quantile_β[2]]\n",
    "\n",
    "df26"
   ]
  },
  {
   "attachments": {},
   "cell_type": "markdown",
   "id": "b4287285",
   "metadata": {},
   "source": [
    "#### NUTS"
   ]
  },
  {
   "cell_type": "code",
   "execution_count": null,
   "id": "e16325d7",
   "metadata": {},
   "outputs": [],
   "source": [
    "params_fn = DataFrame(b = Float64[], α = Float64[], β = Float64[])\n",
    "\n",
    "for i in 1:100\n",
    "    fit = PMP.fit_bayes(PearsonType1b, sample_f[!,i])\n",
    "    estimation = DataFrame(b=mean(fit[1]), α=mean(fit[2]), β=mean(fit[3]))\n",
    "    append!(params_fn, estimation)\n",
    "    print(i)\n",
    "end\n",
    "\n",
    "df26n = DataFrame(taille = 8000, b = mean(params_fn.b), α = mean(params_fn.α), β = mean(params_fn.β))\n",
    "\n",
    "quantile_b = quantile(params_fn.b, [.025, .975])\n",
    "quantile_α = quantile(params_fn.α, [.025, .975])\n",
    "quantile_β = quantile(params_fn.β, [.025, .975])\n",
    "\n",
    "df26n.bq2_5 = [quantile_b[1]]\n",
    "df26n.bq97_5 = [quantile_b[2]]\n",
    "\n",
    "df26n.αq2_5 = [quantile_α[1]]\n",
    "df26n.αq97_5 = [quantile_α[2]]\n",
    "\n",
    "df26n.βq2_5 = [quantile_β[1]]\n",
    "df26n.βq97_5 = [quantile_β[2]]\n",
    "\n",
    "df26n"
   ]
  },
  {
   "attachments": {},
   "cell_type": "markdown",
   "id": "c2b04692",
   "metadata": {},
   "source": [
    "\n",
    "---\n",
    "## Graphics\n",
    "#### Gibbs"
   ]
  },
  {
   "cell_type": "code",
   "execution_count": null,
   "id": "1ffefc41",
   "metadata": {},
   "outputs": [],
   "source": [
    "df2 = append!(df21, df22)\n",
    "append!(df2, df23)\n",
    "append!(df2, df24)\n",
    "append!(df2, df25)\n",
    "append!(df2, df26)\n",
    "\n",
    "p2 = plot(df2, x=:taille, y=:b, Geom.line, Geom.point, \n",
    "            layer(yintercept=[50], Theme(default_color=color(\"black\")), Geom.hline(style=:dot)), \n",
    "            layer(x=:taille, y=:bq2_5, Geom.line, Theme(default_color=color(\"red\"))),\n",
    "            layer(x=:taille, y=:bq97_5, Geom.line, Theme(default_color=color(\"red\"))),\n",
    "    Guide.Title(\"Gibbs\"), Guide.xlabel(\"Size\"),\n",
    "    Coord.cartesian(ymin=45, ymax=75, xmin=90),\n",
    "    style(major_label_font_size=16pt, minor_label_font_size=14pt))"
   ]
  },
  {
   "attachments": {},
   "cell_type": "markdown",
   "id": "68c54c73",
   "metadata": {},
   "source": [
    "#### NUTS"
   ]
  },
  {
   "cell_type": "code",
   "execution_count": null,
   "id": "718abde9",
   "metadata": {},
   "outputs": [],
   "source": [
    "df2n = append!(df21n, df22n)\n",
    "append!(df2n, df23n)\n",
    "append!(df2n, df24n)\n",
    "append!(df2n, df25n)\n",
    "append!(df2n, df26n)\n",
    "\n",
    "p2n = plot(df2n, x=:taille, y=:b, Geom.line, Geom.point, \n",
    "            layer(yintercept=[50], Theme(default_color=color(\"black\")), Geom.hline(style=:dot)), \n",
    "            layer(x=:taille, y=:bq2_5, Geom.line, Theme(default_color=color(\"red\"))),\n",
    "            layer(x=:taille, y=:bq97_5, Geom.line, Theme(default_color=color(\"red\"))),\n",
    "    Guide.Title(\"NUTS\"), Guide.xlabel(\"Size\"),\n",
    "    Coord.cartesian(ymin=45, ymax=75, xmin=90),\n",
    "    style(major_label_font_size=16pt, minor_label_font_size=14pt))"
   ]
  }
 ],
 "metadata": {
  "kernelspec": {
   "display_name": "Julia 1.9.3",
   "language": "julia",
   "name": "julia-1.9"
  },
  "language_info": {
   "file_extension": ".jl",
   "mimetype": "application/julia",
   "name": "julia",
   "version": "1.9.3"
  }
 },
 "nbformat": 4,
 "nbformat_minor": 5
}
