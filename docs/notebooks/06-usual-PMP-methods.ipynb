{
 "cells": [
  {
   "cell_type": "code",
   "execution_count": 1,
   "id": "afe19ccb",
   "metadata": {},
   "outputs": [],
   "source": [
    "using PMP, CSV, DataFrames, Distributions, Extremes, Gadfly, Dates#, Cairo, Fontconfig"
   ]
  },
  {
   "attachments": {},
   "cell_type": "markdown",
   "id": "4265b9ae",
   "metadata": {},
   "source": [
    "We want to estimate stations PMP from usual methods:\n",
    "* Humidity maximization with $PW_{max}$;\n",
    "* Humidity maximization with $PW_{100}$;\n",
    "* Hershfield empirical method with K=15."
   ]
  },
  {
   "attachments": {},
   "cell_type": "markdown",
   "id": "d65829ed",
   "metadata": {},
   "source": [
    "## Data download\n",
    "### Precipitations\n",
    "#### Montréal"
   ]
  },
  {
   "cell_type": "code",
   "execution_count": 2,
   "id": "db8c4fea",
   "metadata": {},
   "outputs": [
    {
     "data": {
      "text/html": [
       "<div><div style = \"float: left;\"><span>5×2 DataFrame</span></div><div style = \"clear: both;\"></div></div><div class = \"data-frame\" style = \"overflow-x: scroll;\"><table class = \"data-frame\" style = \"margin-bottom: 6px;\"><thead><tr class = \"header\"><th class = \"rowNumber\" style = \"font-weight: bold; text-align: right;\">Row</th><th style = \"text-align: left;\">Date</th><th style = \"text-align: left;\">Rain</th></tr><tr class = \"subheader headerLastRow\"><th class = \"rowNumber\" style = \"font-weight: bold; text-align: right;\"></th><th title = \"Date\" style = \"text-align: left;\">Date</th><th title = \"Float64\" style = \"text-align: left;\">Float64</th></tr></thead><tbody><tr><td class = \"rowNumber\" style = \"font-weight: bold; text-align: right;\">1</td><td style = \"text-align: left;\">1953-05-01</td><td style = \"text-align: right;\">11.4</td></tr><tr><td class = \"rowNumber\" style = \"font-weight: bold; text-align: right;\">2</td><td style = \"text-align: left;\">1953-05-04</td><td style = \"text-align: right;\">2.0</td></tr><tr><td class = \"rowNumber\" style = \"font-weight: bold; text-align: right;\">3</td><td style = \"text-align: left;\">1953-05-11</td><td style = \"text-align: right;\">0.5</td></tr><tr><td class = \"rowNumber\" style = \"font-weight: bold; text-align: right;\">4</td><td style = \"text-align: left;\">1953-05-12</td><td style = \"text-align: right;\">3.0</td></tr><tr><td class = \"rowNumber\" style = \"font-weight: bold; text-align: right;\">5</td><td style = \"text-align: left;\">1953-05-13</td><td style = \"text-align: right;\">3.3</td></tr></tbody></table></div>"
      ],
      "text/latex": [
       "\\begin{tabular}{r|cc}\n",
       "\t& Date & Rain\\\\\n",
       "\t\\hline\n",
       "\t& Date & Float64\\\\\n",
       "\t\\hline\n",
       "\t1 & 1953-05-01 & 11.4 \\\\\n",
       "\t2 & 1953-05-04 & 2.0 \\\\\n",
       "\t3 & 1953-05-11 & 0.5 \\\\\n",
       "\t4 & 1953-05-12 & 3.0 \\\\\n",
       "\t5 & 1953-05-13 & 3.3 \\\\\n",
       "\\end{tabular}\n"
      ],
      "text/plain": [
       "\u001b[1m5×2 DataFrame\u001b[0m\n",
       "\u001b[1m Row \u001b[0m│\u001b[1m Date       \u001b[0m\u001b[1m Rain    \u001b[0m\n",
       "     │\u001b[90m Date       \u001b[0m\u001b[90m Float64 \u001b[0m\n",
       "─────┼─────────────────────\n",
       "   1 │ 1953-05-01     11.4\n",
       "   2 │ 1953-05-04      2.0\n",
       "   3 │ 1953-05-11      0.5\n",
       "   4 │ 1953-05-12      3.0\n",
       "   5 │ 1953-05-13      3.3"
      ]
     },
     "metadata": {},
     "output_type": "display_data"
    }
   ],
   "source": [
    "data_mtl = CSV.read(\"rain-mtl.csv\", DataFrame);\n",
    "first(data_mtl, 5)"
   ]
  },
  {
   "attachments": {},
   "cell_type": "markdown",
   "id": "f60f2fd1",
   "metadata": {},
   "source": [
    "#### St-Hubert"
   ]
  },
  {
   "cell_type": "code",
   "execution_count": 3,
   "id": "39168d88",
   "metadata": {},
   "outputs": [
    {
     "data": {
      "text/html": [
       "<div><div style = \"float: left;\"><span>5×2 DataFrame</span></div><div style = \"clear: both;\"></div></div><div class = \"data-frame\" style = \"overflow-x: scroll;\"><table class = \"data-frame\" style = \"margin-bottom: 6px;\"><thead><tr class = \"header\"><th class = \"rowNumber\" style = \"font-weight: bold; text-align: right;\">Row</th><th style = \"text-align: left;\">Date</th><th style = \"text-align: left;\">Rain</th></tr><tr class = \"subheader headerLastRow\"><th class = \"rowNumber\" style = \"font-weight: bold; text-align: right;\"></th><th title = \"Date\" style = \"text-align: left;\">Date</th><th title = \"Float64\" style = \"text-align: left;\">Float64</th></tr></thead><tbody><tr><td class = \"rowNumber\" style = \"font-weight: bold; text-align: right;\">1</td><td style = \"text-align: left;\">1949-07-04</td><td style = \"text-align: right;\">12.4</td></tr><tr><td class = \"rowNumber\" style = \"font-weight: bold; text-align: right;\">2</td><td style = \"text-align: left;\">1949-07-09</td><td style = \"text-align: right;\">27.2</td></tr><tr><td class = \"rowNumber\" style = \"font-weight: bold; text-align: right;\">3</td><td style = \"text-align: left;\">1949-07-10</td><td style = \"text-align: right;\">0.5</td></tr><tr><td class = \"rowNumber\" style = \"font-weight: bold; text-align: right;\">4</td><td style = \"text-align: left;\">1949-07-17</td><td style = \"text-align: right;\">1.3</td></tr><tr><td class = \"rowNumber\" style = \"font-weight: bold; text-align: right;\">5</td><td style = \"text-align: left;\">1949-07-18</td><td style = \"text-align: right;\">2.8</td></tr></tbody></table></div>"
      ],
      "text/latex": [
       "\\begin{tabular}{r|cc}\n",
       "\t& Date & Rain\\\\\n",
       "\t\\hline\n",
       "\t& Date & Float64\\\\\n",
       "\t\\hline\n",
       "\t1 & 1949-07-04 & 12.4 \\\\\n",
       "\t2 & 1949-07-09 & 27.2 \\\\\n",
       "\t3 & 1949-07-10 & 0.5 \\\\\n",
       "\t4 & 1949-07-17 & 1.3 \\\\\n",
       "\t5 & 1949-07-18 & 2.8 \\\\\n",
       "\\end{tabular}\n"
      ],
      "text/plain": [
       "\u001b[1m5×2 DataFrame\u001b[0m\n",
       "\u001b[1m Row \u001b[0m│\u001b[1m Date       \u001b[0m\u001b[1m Rain    \u001b[0m\n",
       "     │\u001b[90m Date       \u001b[0m\u001b[90m Float64 \u001b[0m\n",
       "─────┼─────────────────────\n",
       "   1 │ 1949-07-04     12.4\n",
       "   2 │ 1949-07-09     27.2\n",
       "   3 │ 1949-07-10      0.5\n",
       "   4 │ 1949-07-17      1.3\n",
       "   5 │ 1949-07-18      2.8"
      ]
     },
     "metadata": {},
     "output_type": "display_data"
    }
   ],
   "source": [
    "data_sh = CSV.read(\"rain-sh.csv\", DataFrame);\n",
    "first(data_sh, 5)"
   ]
  },
  {
   "attachments": {},
   "cell_type": "markdown",
   "id": "08bfd28f",
   "metadata": {},
   "source": [
    "### Dewpoint\n",
    "For humidity maximization, we need hourly dewpoint data for Montréal and St-Hubert"
   ]
  },
  {
   "attachments": {},
   "cell_type": "markdown",
   "id": "47936a13",
   "metadata": {},
   "source": [
    "#### Montréal"
   ]
  },
  {
   "cell_type": "code",
   "execution_count": 76,
   "id": "011c3cae",
   "metadata": {},
   "outputs": [
    {
     "data": {
      "text/html": [
       "<div><div style = \"float: left;\"><span>5×2 DataFrame</span></div><div style = \"clear: both;\"></div></div><div class = \"data-frame\" style = \"overflow-x: scroll;\"><table class = \"data-frame\" style = \"margin-bottom: 6px;\"><thead><tr class = \"header\"><th class = \"rowNumber\" style = \"font-weight: bold; text-align: right;\">Row</th><th style = \"text-align: left;\">DateTime</th><th style = \"text-align: left;\">Dew</th></tr><tr class = \"subheader headerLastRow\"><th class = \"rowNumber\" style = \"font-weight: bold; text-align: right;\"></th><th title = \"DateTime\" style = \"text-align: left;\">DateTime</th><th title = \"Float64\" style = \"text-align: left;\">Float64</th></tr></thead><tbody><tr><td class = \"rowNumber\" style = \"font-weight: bold; text-align: right;\">1</td><td style = \"text-align: left;\">1953-05-01T00:00:00</td><td style = \"text-align: right;\">0.0</td></tr><tr><td class = \"rowNumber\" style = \"font-weight: bold; text-align: right;\">2</td><td style = \"text-align: left;\">1953-05-01T00:00:00</td><td style = \"text-align: right;\">0.0</td></tr><tr><td class = \"rowNumber\" style = \"font-weight: bold; text-align: right;\">3</td><td style = \"text-align: left;\">1953-05-01T00:00:00</td><td style = \"text-align: right;\">-0.6</td></tr><tr><td class = \"rowNumber\" style = \"font-weight: bold; text-align: right;\">4</td><td style = \"text-align: left;\">1953-05-01T00:00:00</td><td style = \"text-align: right;\">1.1</td></tr><tr><td class = \"rowNumber\" style = \"font-weight: bold; text-align: right;\">5</td><td style = \"text-align: left;\">1953-05-01T00:00:00</td><td style = \"text-align: right;\">0.6</td></tr></tbody></table></div>"
      ],
      "text/latex": [
       "\\begin{tabular}{r|cc}\n",
       "\t& DateTime & Dew\\\\\n",
       "\t\\hline\n",
       "\t& DateTime & Float64\\\\\n",
       "\t\\hline\n",
       "\t1 & 1953-05-01T00:00:00 & 0.0 \\\\\n",
       "\t2 & 1953-05-01T00:00:00 & 0.0 \\\\\n",
       "\t3 & 1953-05-01T00:00:00 & -0.6 \\\\\n",
       "\t4 & 1953-05-01T00:00:00 & 1.1 \\\\\n",
       "\t5 & 1953-05-01T00:00:00 & 0.6 \\\\\n",
       "\\end{tabular}\n"
      ],
      "text/plain": [
       "\u001b[1m5×2 DataFrame\u001b[0m\n",
       "\u001b[1m Row \u001b[0m│\u001b[1m DateTime            \u001b[0m\u001b[1m Dew     \u001b[0m\n",
       "     │\u001b[90m DateTime            \u001b[0m\u001b[90m Float64 \u001b[0m\n",
       "─────┼──────────────────────────────\n",
       "   1 │ 1953-05-01T00:00:00      0.0\n",
       "   2 │ 1953-05-01T00:00:00      0.0\n",
       "   3 │ 1953-05-01T00:00:00     -0.6\n",
       "   4 │ 1953-05-01T00:00:00      1.1\n",
       "   5 │ 1953-05-01T00:00:00      0.6"
      ]
     },
     "execution_count": 76,
     "metadata": {},
     "output_type": "execute_result"
    }
   ],
   "source": [
    "mtl_dew_hour = CSV.read(\"dewpoint-mtl.csv\")\n",
    "first(mtl_dew_hour, 5)"
   ]
  },
  {
   "attachments": {},
   "cell_type": "markdown",
   "id": "bca8b55c",
   "metadata": {},
   "source": [
    "#### St-Hubert"
   ]
  },
  {
   "cell_type": "code",
   "execution_count": 75,
   "id": "f54d4710",
   "metadata": {},
   "outputs": [
    {
     "data": {
      "text/html": [
       "<div><div style = \"float: left;\"><span>5×2 DataFrame</span></div><div style = \"clear: both;\"></div></div><div class = \"data-frame\" style = \"overflow-x: scroll;\"><table class = \"data-frame\" style = \"margin-bottom: 6px;\"><thead><tr class = \"header\"><th class = \"rowNumber\" style = \"font-weight: bold; text-align: right;\">Row</th><th style = \"text-align: left;\">DateTime</th><th style = \"text-align: left;\">Dew</th></tr><tr class = \"subheader headerLastRow\"><th class = \"rowNumber\" style = \"font-weight: bold; text-align: right;\"></th><th title = \"DateTime\" style = \"text-align: left;\">DateTime</th><th title = \"Float64\" style = \"text-align: left;\">Float64</th></tr></thead><tbody><tr><td class = \"rowNumber\" style = \"font-weight: bold; text-align: right;\">1</td><td style = \"text-align: left;\">1953-05-01T00:00:00</td><td style = \"text-align: right;\">-1.1</td></tr><tr><td class = \"rowNumber\" style = \"font-weight: bold; text-align: right;\">2</td><td style = \"text-align: left;\">1953-05-01T00:00:00</td><td style = \"text-align: right;\">-1.1</td></tr><tr><td class = \"rowNumber\" style = \"font-weight: bold; text-align: right;\">3</td><td style = \"text-align: left;\">1953-05-01T00:00:00</td><td style = \"text-align: right;\">-0.6</td></tr><tr><td class = \"rowNumber\" style = \"font-weight: bold; text-align: right;\">4</td><td style = \"text-align: left;\">1953-05-01T00:00:00</td><td style = \"text-align: right;\">-1.1</td></tr><tr><td class = \"rowNumber\" style = \"font-weight: bold; text-align: right;\">5</td><td style = \"text-align: left;\">1953-05-01T00:00:00</td><td style = \"text-align: right;\">-0.6</td></tr></tbody></table></div>"
      ],
      "text/latex": [
       "\\begin{tabular}{r|cc}\n",
       "\t& DateTime & Dew\\\\\n",
       "\t\\hline\n",
       "\t& DateTime & Float64\\\\\n",
       "\t\\hline\n",
       "\t1 & 1953-05-01T00:00:00 & -1.1 \\\\\n",
       "\t2 & 1953-05-01T00:00:00 & -1.1 \\\\\n",
       "\t3 & 1953-05-01T00:00:00 & -0.6 \\\\\n",
       "\t4 & 1953-05-01T00:00:00 & -1.1 \\\\\n",
       "\t5 & 1953-05-01T00:00:00 & -0.6 \\\\\n",
       "\\end{tabular}\n"
      ],
      "text/plain": [
       "\u001b[1m5×2 DataFrame\u001b[0m\n",
       "\u001b[1m Row \u001b[0m│\u001b[1m DateTime            \u001b[0m\u001b[1m Dew     \u001b[0m\n",
       "     │\u001b[90m DateTime            \u001b[0m\u001b[90m Float64 \u001b[0m\n",
       "─────┼──────────────────────────────\n",
       "   1 │ 1953-05-01T00:00:00     -1.1\n",
       "   2 │ 1953-05-01T00:00:00     -1.1\n",
       "   3 │ 1953-05-01T00:00:00     -0.6\n",
       "   4 │ 1953-05-01T00:00:00     -1.1\n",
       "   5 │ 1953-05-01T00:00:00     -0.6"
      ]
     },
     "execution_count": 75,
     "metadata": {},
     "output_type": "execute_result"
    }
   ],
   "source": [
    "sh_dew_hour = CSV.read(\"dewpoint-sh.csv\")\n",
    "first(sh_dew_hour, 5)"
   ]
  },
  {
   "attachments": {},
   "cell_type": "markdown",
   "id": "8d28c221",
   "metadata": {},
   "source": [
    "---\n",
    "# Montréal\n",
    "## Humidity maximization\n",
    "#### Storm selection : annual greatest 10% storms"
   ]
  },
  {
   "cell_type": "code",
   "execution_count": 96,
   "id": "e2d77f53",
   "metadata": {},
   "outputs": [
    {
     "data": {
      "text/html": [
       "<div><div style = \"float: left;\"><span>5×2 DataFrame</span></div><div style = \"clear: both;\"></div></div><div class = \"data-frame\" style = \"overflow-x: scroll;\"><table class = \"data-frame\" style = \"margin-bottom: 6px;\"><thead><tr class = \"header\"><th class = \"rowNumber\" style = \"font-weight: bold; text-align: right;\">Row</th><th style = \"text-align: left;\">Date</th><th style = \"text-align: left;\">Rain</th></tr><tr class = \"subheader headerLastRow\"><th class = \"rowNumber\" style = \"font-weight: bold; text-align: right;\"></th><th title = \"Date\" style = \"text-align: left;\">Date</th><th title = \"Float64\" style = \"text-align: left;\">Float64</th></tr></thead><tbody><tr><td class = \"rowNumber\" style = \"font-weight: bold; text-align: right;\">1</td><td style = \"text-align: left;\">1953-08-04</td><td style = \"text-align: right;\">39.6</td></tr><tr><td class = \"rowNumber\" style = \"font-weight: bold; text-align: right;\">2</td><td style = \"text-align: left;\">1953-06-08</td><td style = \"text-align: right;\">32.5</td></tr><tr><td class = \"rowNumber\" style = \"font-weight: bold; text-align: right;\">3</td><td style = \"text-align: left;\">1953-07-06</td><td style = \"text-align: right;\">31.8</td></tr><tr><td class = \"rowNumber\" style = \"font-weight: bold; text-align: right;\">4</td><td style = \"text-align: left;\">1953-05-14</td><td style = \"text-align: right;\">21.3</td></tr><tr><td class = \"rowNumber\" style = \"font-weight: bold; text-align: right;\">5</td><td style = \"text-align: left;\">1953-05-17</td><td style = \"text-align: right;\">19.8</td></tr></tbody></table></div>"
      ],
      "text/latex": [
       "\\begin{tabular}{r|cc}\n",
       "\t& Date & Rain\\\\\n",
       "\t\\hline\n",
       "\t& Date & Float64\\\\\n",
       "\t\\hline\n",
       "\t1 & 1953-08-04 & 39.6 \\\\\n",
       "\t2 & 1953-06-08 & 32.5 \\\\\n",
       "\t3 & 1953-07-06 & 31.8 \\\\\n",
       "\t4 & 1953-05-14 & 21.3 \\\\\n",
       "\t5 & 1953-05-17 & 19.8 \\\\\n",
       "\\end{tabular}\n"
      ],
      "text/plain": [
       "\u001b[1m5×2 DataFrame\u001b[0m\n",
       "\u001b[1m Row \u001b[0m│\u001b[1m Date       \u001b[0m\u001b[1m Rain    \u001b[0m\n",
       "     │\u001b[90m Date       \u001b[0m\u001b[90m Float64 \u001b[0m\n",
       "─────┼─────────────────────\n",
       "   1 │ 1953-08-04     39.6\n",
       "   2 │ 1953-06-08     32.5\n",
       "   3 │ 1953-07-06     31.8\n",
       "   4 │ 1953-05-14     21.3\n",
       "   5 │ 1953-05-17     19.8"
      ]
     },
     "execution_count": 96,
     "metadata": {},
     "output_type": "execute_result"
    }
   ],
   "source": [
    "p = 0.1  #10%\n",
    "storm_mtl = storm_selection(data_mtl.Rain, data_mtl.Date, p)\n",
    "first(storm_mtl, 5)"
   ]
  },
  {
   "attachments": {},
   "cell_type": "markdown",
   "id": "395d5e74",
   "metadata": {},
   "source": [
    "#### Precipitable water (PW)"
   ]
  },
  {
   "cell_type": "code",
   "execution_count": 97,
   "id": "cd6909e1",
   "metadata": {},
   "outputs": [
    {
     "data": {
      "text/html": [
       "<div><div style = \"float: left;\"><span>5×3 DataFrame</span></div><div style = \"clear: both;\"></div></div><div class = \"data-frame\" style = \"overflow-x: scroll;\"><table class = \"data-frame\" style = \"margin-bottom: 6px;\"><thead><tr class = \"header\"><th class = \"rowNumber\" style = \"font-weight: bold; text-align: right;\">Row</th><th style = \"text-align: left;\">Date</th><th style = \"text-align: left;\">Dew</th><th style = \"text-align: left;\">PW</th></tr><tr class = \"subheader headerLastRow\"><th class = \"rowNumber\" style = \"font-weight: bold; text-align: right;\"></th><th title = \"DateTime\" style = \"text-align: left;\">DateTime</th><th title = \"Float64\" style = \"text-align: left;\">Float64</th><th title = \"Float64\" style = \"text-align: left;\">Float64</th></tr></thead><tbody><tr><td class = \"rowNumber\" style = \"font-weight: bold; text-align: right;\">1</td><td style = \"text-align: left;\">1953-08-04T00:00:00</td><td style = \"text-align: right;\">12.8</td><td style = \"text-align: right;\">27.4</td></tr><tr><td class = \"rowNumber\" style = \"font-weight: bold; text-align: right;\">2</td><td style = \"text-align: left;\">1953-06-08T00:00:00</td><td style = \"text-align: right;\">10.0</td><td style = \"text-align: right;\">21.0</td></tr><tr><td class = \"rowNumber\" style = \"font-weight: bold; text-align: right;\">3</td><td style = \"text-align: left;\">1953-07-06T00:00:00</td><td style = \"text-align: right;\">18.9</td><td style = \"text-align: right;\">47.6</td></tr><tr><td class = \"rowNumber\" style = \"font-weight: bold; text-align: right;\">4</td><td style = \"text-align: left;\">1953-05-14T00:00:00</td><td style = \"text-align: right;\">6.7</td><td style = \"text-align: right;\">15.7</td></tr><tr><td class = \"rowNumber\" style = \"font-weight: bold; text-align: right;\">5</td><td style = \"text-align: left;\">1953-05-17T00:00:00</td><td style = \"text-align: right;\">10.6</td><td style = \"text-align: right;\">22.2</td></tr></tbody></table></div>"
      ],
      "text/latex": [
       "\\begin{tabular}{r|ccc}\n",
       "\t& Date & Dew & PW\\\\\n",
       "\t\\hline\n",
       "\t& DateTime & Float64 & Float64\\\\\n",
       "\t\\hline\n",
       "\t1 & 1953-08-04T00:00:00 & 12.8 & 27.4 \\\\\n",
       "\t2 & 1953-06-08T00:00:00 & 10.0 & 21.0 \\\\\n",
       "\t3 & 1953-07-06T00:00:00 & 18.9 & 47.6 \\\\\n",
       "\t4 & 1953-05-14T00:00:00 & 6.7 & 15.7 \\\\\n",
       "\t5 & 1953-05-17T00:00:00 & 10.6 & 22.2 \\\\\n",
       "\\end{tabular}\n"
      ],
      "text/plain": [
       "\u001b[1m5×3 DataFrame\u001b[0m\n",
       "\u001b[1m Row \u001b[0m│\u001b[1m Date                \u001b[0m\u001b[1m Dew     \u001b[0m\u001b[1m PW      \u001b[0m\n",
       "     │\u001b[90m DateTime            \u001b[0m\u001b[90m Float64 \u001b[0m\u001b[90m Float64 \u001b[0m\n",
       "─────┼───────────────────────────────────────\n",
       "   1 │ 1953-08-04T00:00:00     12.8     27.4\n",
       "   2 │ 1953-06-08T00:00:00     10.0     21.0\n",
       "   3 │ 1953-07-06T00:00:00     18.9     47.6\n",
       "   4 │ 1953-05-14T00:00:00      6.7     15.7\n",
       "   5 │ 1953-05-17T00:00:00     10.6     22.2"
      ]
     },
     "execution_count": 97,
     "metadata": {},
     "output_type": "execute_result"
    }
   ],
   "source": [
    "obs_freq = 1     # One observation per hour\n",
    "time_int = 12    # Keep the smallest observation on each moving window of size 12h\n",
    "\n",
    "# Calculate appropriate pw for each storm\n",
    "pw_storm_mtl = PW_storm(storm_mtl.Date, mtl_dew_hour.Dew, mtl_dew_hour.DateTime, 24, obs_freq, time_int)\n",
    "first(pw_storm_mtl, 5)"
   ]
  },
  {
   "attachments": {},
   "cell_type": "markdown",
   "id": "2b3ab179",
   "metadata": {},
   "source": [
    "#### Maximization ratio"
   ]
  },
  {
   "cell_type": "code",
   "execution_count": 98,
   "id": "a8689e6d",
   "metadata": {},
   "outputs": [
    {
     "data": {
      "text/html": [
       "<div><div style = \"float: left;\"><span>6×2 DataFrame</span></div><div style = \"clear: both;\"></div></div><div class = \"data-frame\" style = \"overflow-x: scroll;\"><table class = \"data-frame\" style = \"margin-bottom: 6px;\"><thead><tr class = \"header\"><th class = \"rowNumber\" style = \"font-weight: bold; text-align: right;\">Row</th><th style = \"text-align: left;\">Month</th><th style = \"text-align: left;\">PW_rp</th></tr><tr class = \"subheader headerLastRow\"><th class = \"rowNumber\" style = \"font-weight: bold; text-align: right;\"></th><th title = \"Int64\" style = \"text-align: left;\">Int64</th><th title = \"Float64\" style = \"text-align: left;\">Float64</th></tr></thead><tbody><tr><td class = \"rowNumber\" style = \"font-weight: bold; text-align: right;\">1</td><td style = \"text-align: right;\">5</td><td style = \"text-align: right;\">63.3157</td></tr><tr><td class = \"rowNumber\" style = \"font-weight: bold; text-align: right;\">2</td><td style = \"text-align: right;\">6</td><td style = \"text-align: right;\">81.5128</td></tr><tr><td class = \"rowNumber\" style = \"font-weight: bold; text-align: right;\">3</td><td style = \"text-align: right;\">7</td><td style = \"text-align: right;\">85.7006</td></tr><tr><td class = \"rowNumber\" style = \"font-weight: bold; text-align: right;\">4</td><td style = \"text-align: right;\">8</td><td style = \"text-align: right;\">92.3363</td></tr><tr><td class = \"rowNumber\" style = \"font-weight: bold; text-align: right;\">5</td><td style = \"text-align: right;\">9</td><td style = \"text-align: right;\">79.1104</td></tr><tr><td class = \"rowNumber\" style = \"font-weight: bold; text-align: right;\">6</td><td style = \"text-align: right;\">10</td><td style = \"text-align: right;\">57.9572</td></tr></tbody></table></div>"
      ],
      "text/latex": [
       "\\begin{tabular}{r|cc}\n",
       "\t& Month & PW\\_rp\\\\\n",
       "\t\\hline\n",
       "\t& Int64 & Float64\\\\\n",
       "\t\\hline\n",
       "\t1 & 5 & 63.3157 \\\\\n",
       "\t2 & 6 & 81.5128 \\\\\n",
       "\t3 & 7 & 85.7006 \\\\\n",
       "\t4 & 8 & 92.3363 \\\\\n",
       "\t5 & 9 & 79.1104 \\\\\n",
       "\t6 & 10 & 57.9572 \\\\\n",
       "\\end{tabular}\n"
      ],
      "text/plain": [
       "\u001b[1m6×2 DataFrame\u001b[0m\n",
       "\u001b[1m Row \u001b[0m│\u001b[1m Month \u001b[0m\u001b[1m PW_rp   \u001b[0m\n",
       "     │\u001b[90m Int64 \u001b[0m\u001b[90m Float64 \u001b[0m\n",
       "─────┼────────────────\n",
       "   1 │     5  63.3157\n",
       "   2 │     6  81.5128\n",
       "   3 │     7  85.7006\n",
       "   4 │     8  92.3363\n",
       "   5 │     9  79.1104\n",
       "   6 │    10  57.9572"
      ]
     },
     "execution_count": 98,
     "metadata": {},
     "output_type": "execute_result"
    }
   ],
   "source": [
    "# PW dataset construction\n",
    "pw_mtl = DataFrame(Date = mtl_dew_hour.DateTime)\n",
    "pw_mtl.PW = dewpoint_to_PW.(mtl_dew_hour.Dew)\n",
    "\n",
    "pw_max_mtl = PW_max(pw_mtl.PW, pw_mtl.Date)[2:7, :]                  # PW max for months of interest\n",
    "pw_100_mtl = PW_return_period(pw_mtl.PW, pw_mtl.Date, 100)[2:7, :]   # PW 100 fot months of interest"
   ]
  },
  {
   "attachments": {},
   "cell_type": "markdown",
   "id": "85ed8f9c",
   "metadata": {},
   "source": [
    "#### PMP"
   ]
  },
  {
   "cell_type": "code",
   "execution_count": 99,
   "id": "46d27e35",
   "metadata": {},
   "outputs": [
    {
     "data": {
      "text/plain": [
       "282.1923076923077"
      ]
     },
     "execution_count": 99,
     "metadata": {},
     "output_type": "execute_result"
    }
   ],
   "source": [
    "pmp_max_mtl = PMP_mm(storm_mtl.Rain, pw_storm_mtl.PW, storm_mtl.Date, pw_max_mtl.PW_max)"
   ]
  },
  {
   "cell_type": "code",
   "execution_count": 100,
   "id": "a99aa15c",
   "metadata": {},
   "outputs": [
    {
     "data": {
      "text/plain": [
       "284.43588001071834"
      ]
     },
     "execution_count": 100,
     "metadata": {},
     "output_type": "execute_result"
    }
   ],
   "source": [
    "pmp_100_mtl = PMP_mm(storm_mtl.Rain, pw_storm_mtl.PW, storm_mtl.Date, pw_100_mtl.PW_rp)"
   ]
  },
  {
   "attachments": {},
   "cell_type": "markdown",
   "id": "0183de15",
   "metadata": {},
   "source": [
    "## Hershfield K=15"
   ]
  },
  {
   "cell_type": "code",
   "execution_count": 16,
   "id": "ac17ff52",
   "metadata": {},
   "outputs": [
    {
     "data": {
      "text/plain": [
       "260.760800470233"
      ]
     },
     "execution_count": 16,
     "metadata": {},
     "output_type": "execute_result"
    }
   ],
   "source": [
    "mtl_pmp_hershfield = PMP_Hershfield(data_mtl.Rain, data_mtl.Date, 15)"
   ]
  },
  {
   "attachments": {},
   "cell_type": "markdown",
   "id": "23f62016",
   "metadata": {},
   "source": [
    "\n",
    "---\n",
    "# St-Hubert\n",
    "## Humidity maximization\n",
    "For St-Hubert, we only have dewpoint from 1953. We have to cut rain data."
   ]
  },
  {
   "cell_type": "code",
   "execution_count": 111,
   "id": "8db7dae2",
   "metadata": {},
   "outputs": [],
   "source": [
    "data_sh_short = data_sh[233:end, :];"
   ]
  },
  {
   "attachments": {},
   "cell_type": "markdown",
   "id": "dc331c26",
   "metadata": {},
   "source": [
    "#### Storm selection : Storm selection : annual greatest 10% storms"
   ]
  },
  {
   "cell_type": "code",
   "execution_count": 112,
   "id": "297559a6",
   "metadata": {},
   "outputs": [
    {
     "data": {
      "text/html": [
       "<div><div style = \"float: left;\"><span>5×2 DataFrame</span></div><div style = \"clear: both;\"></div></div><div class = \"data-frame\" style = \"overflow-x: scroll;\"><table class = \"data-frame\" style = \"margin-bottom: 6px;\"><thead><tr class = \"header\"><th class = \"rowNumber\" style = \"font-weight: bold; text-align: right;\">Row</th><th style = \"text-align: left;\">Date</th><th style = \"text-align: left;\">Rain</th></tr><tr class = \"subheader headerLastRow\"><th class = \"rowNumber\" style = \"font-weight: bold; text-align: right;\"></th><th title = \"Date\" style = \"text-align: left;\">Date</th><th title = \"Float64\" style = \"text-align: left;\">Float64</th></tr></thead><tbody><tr><td class = \"rowNumber\" style = \"font-weight: bold; text-align: right;\">1</td><td style = \"text-align: left;\">1953-07-06</td><td style = \"text-align: right;\">39.9</td></tr><tr><td class = \"rowNumber\" style = \"font-weight: bold; text-align: right;\">2</td><td style = \"text-align: left;\">1953-08-04</td><td style = \"text-align: right;\">27.9</td></tr><tr><td class = \"rowNumber\" style = \"font-weight: bold; text-align: right;\">3</td><td style = \"text-align: left;\">1953-06-08</td><td style = \"text-align: right;\">26.4</td></tr><tr><td class = \"rowNumber\" style = \"font-weight: bold; text-align: right;\">4</td><td style = \"text-align: left;\">1953-06-25</td><td style = \"text-align: right;\">24.4</td></tr><tr><td class = \"rowNumber\" style = \"font-weight: bold; text-align: right;\">5</td><td style = \"text-align: left;\">1953-05-17</td><td style = \"text-align: right;\">22.6</td></tr></tbody></table></div>"
      ],
      "text/latex": [
       "\\begin{tabular}{r|cc}\n",
       "\t& Date & Rain\\\\\n",
       "\t\\hline\n",
       "\t& Date & Float64\\\\\n",
       "\t\\hline\n",
       "\t1 & 1953-07-06 & 39.9 \\\\\n",
       "\t2 & 1953-08-04 & 27.9 \\\\\n",
       "\t3 & 1953-06-08 & 26.4 \\\\\n",
       "\t4 & 1953-06-25 & 24.4 \\\\\n",
       "\t5 & 1953-05-17 & 22.6 \\\\\n",
       "\\end{tabular}\n"
      ],
      "text/plain": [
       "\u001b[1m5×2 DataFrame\u001b[0m\n",
       "\u001b[1m Row \u001b[0m│\u001b[1m Date       \u001b[0m\u001b[1m Rain    \u001b[0m\n",
       "     │\u001b[90m Date       \u001b[0m\u001b[90m Float64 \u001b[0m\n",
       "─────┼─────────────────────\n",
       "   1 │ 1953-07-06     39.9\n",
       "   2 │ 1953-08-04     27.9\n",
       "   3 │ 1953-06-08     26.4\n",
       "   4 │ 1953-06-25     24.4\n",
       "   5 │ 1953-05-17     22.6"
      ]
     },
     "execution_count": 112,
     "metadata": {},
     "output_type": "execute_result"
    }
   ],
   "source": [
    "p = 0.1  #10%\n",
    "storm_sh = storm_selection(data_sh_short.Rain, data_sh_short.Date, p)\n",
    "first(storm_sh, 5)"
   ]
  },
  {
   "attachments": {},
   "cell_type": "markdown",
   "id": "8e21daa7",
   "metadata": {},
   "source": [
    "#### Precipitable water"
   ]
  },
  {
   "cell_type": "code",
   "execution_count": 113,
   "id": "a21d933c",
   "metadata": {},
   "outputs": [
    {
     "data": {
      "text/html": [
       "<div><div style = \"float: left;\"><span>5×3 DataFrame</span></div><div style = \"clear: both;\"></div></div><div class = \"data-frame\" style = \"overflow-x: scroll;\"><table class = \"data-frame\" style = \"margin-bottom: 6px;\"><thead><tr class = \"header\"><th class = \"rowNumber\" style = \"font-weight: bold; text-align: right;\">Row</th><th style = \"text-align: left;\">Date</th><th style = \"text-align: left;\">Dew</th><th style = \"text-align: left;\">PW</th></tr><tr class = \"subheader headerLastRow\"><th class = \"rowNumber\" style = \"font-weight: bold; text-align: right;\"></th><th title = \"DateTime\" style = \"text-align: left;\">DateTime</th><th title = \"Float64\" style = \"text-align: left;\">Float64</th><th title = \"Float64\" style = \"text-align: left;\">Float64</th></tr></thead><tbody><tr><td class = \"rowNumber\" style = \"font-weight: bold; text-align: right;\">1</td><td style = \"text-align: left;\">1953-07-06T00:00:00</td><td style = \"text-align: right;\">18.3</td><td style = \"text-align: right;\">45.2</td></tr><tr><td class = \"rowNumber\" style = \"font-weight: bold; text-align: right;\">2</td><td style = \"text-align: left;\">1953-08-04T00:00:00</td><td style = \"text-align: right;\">12.2</td><td style = \"text-align: right;\">25.6</td></tr><tr><td class = \"rowNumber\" style = \"font-weight: bold; text-align: right;\">3</td><td style = \"text-align: left;\">1953-06-08T00:00:00</td><td style = \"text-align: right;\">9.4</td><td style = \"text-align: right;\">19.8</td></tr><tr><td class = \"rowNumber\" style = \"font-weight: bold; text-align: right;\">4</td><td style = \"text-align: left;\">1953-06-25T00:00:00</td><td style = \"text-align: right;\">6.7</td><td style = \"text-align: right;\">15.7</td></tr><tr><td class = \"rowNumber\" style = \"font-weight: bold; text-align: right;\">5</td><td style = \"text-align: left;\">1953-05-17T00:00:00</td><td style = \"text-align: right;\">11.1</td><td style = \"text-align: right;\">23.2</td></tr></tbody></table></div>"
      ],
      "text/latex": [
       "\\begin{tabular}{r|ccc}\n",
       "\t& Date & Dew & PW\\\\\n",
       "\t\\hline\n",
       "\t& DateTime & Float64 & Float64\\\\\n",
       "\t\\hline\n",
       "\t1 & 1953-07-06T00:00:00 & 18.3 & 45.2 \\\\\n",
       "\t2 & 1953-08-04T00:00:00 & 12.2 & 25.6 \\\\\n",
       "\t3 & 1953-06-08T00:00:00 & 9.4 & 19.8 \\\\\n",
       "\t4 & 1953-06-25T00:00:00 & 6.7 & 15.7 \\\\\n",
       "\t5 & 1953-05-17T00:00:00 & 11.1 & 23.2 \\\\\n",
       "\\end{tabular}\n"
      ],
      "text/plain": [
       "\u001b[1m5×3 DataFrame\u001b[0m\n",
       "\u001b[1m Row \u001b[0m│\u001b[1m Date                \u001b[0m\u001b[1m Dew     \u001b[0m\u001b[1m PW      \u001b[0m\n",
       "     │\u001b[90m DateTime            \u001b[0m\u001b[90m Float64 \u001b[0m\u001b[90m Float64 \u001b[0m\n",
       "─────┼───────────────────────────────────────\n",
       "   1 │ 1953-07-06T00:00:00     18.3     45.2\n",
       "   2 │ 1953-08-04T00:00:00     12.2     25.6\n",
       "   3 │ 1953-06-08T00:00:00      9.4     19.8\n",
       "   4 │ 1953-06-25T00:00:00      6.7     15.7\n",
       "   5 │ 1953-05-17T00:00:00     11.1     23.2"
      ]
     },
     "execution_count": 113,
     "metadata": {},
     "output_type": "execute_result"
    }
   ],
   "source": [
    "obs_freq = 1     # One observation per hour\n",
    "time_int = 12    # Keep the smallest observation on each moving window of size 12h\n",
    "\n",
    "# Calculate appropriate pw for each storm\n",
    "pw_storm_sh = PW_storm(storm_sh.Date, sh_dew_hour.Dew, sh_dew_hour.DateTime, 24, obs_freq, time_int)\n",
    "first(pw_storm_sh, 5)"
   ]
  },
  {
   "attachments": {},
   "cell_type": "markdown",
   "id": "5453b651",
   "metadata": {},
   "source": [
    "#### Maximization ratio"
   ]
  },
  {
   "cell_type": "code",
   "execution_count": 114,
   "id": "c39baa5e",
   "metadata": {},
   "outputs": [
    {
     "data": {
      "text/html": [
       "<div><div style = \"float: left;\"><span>6×2 DataFrame</span></div><div style = \"clear: both;\"></div></div><div class = \"data-frame\" style = \"overflow-x: scroll;\"><table class = \"data-frame\" style = \"margin-bottom: 6px;\"><thead><tr class = \"header\"><th class = \"rowNumber\" style = \"font-weight: bold; text-align: right;\">Row</th><th style = \"text-align: left;\">Month</th><th style = \"text-align: left;\">PW_rp</th></tr><tr class = \"subheader headerLastRow\"><th class = \"rowNumber\" style = \"font-weight: bold; text-align: right;\"></th><th title = \"Int64\" style = \"text-align: left;\">Int64</th><th title = \"Float64\" style = \"text-align: left;\">Float64</th></tr></thead><tbody><tr><td class = \"rowNumber\" style = \"font-weight: bold; text-align: right;\">1</td><td style = \"text-align: right;\">5</td><td style = \"text-align: right;\">63.1963</td></tr><tr><td class = \"rowNumber\" style = \"font-weight: bold; text-align: right;\">2</td><td style = \"text-align: right;\">6</td><td style = \"text-align: right;\">85.3272</td></tr><tr><td class = \"rowNumber\" style = \"font-weight: bold; text-align: right;\">3</td><td style = \"text-align: right;\">7</td><td style = \"text-align: right;\">87.8987</td></tr><tr><td class = \"rowNumber\" style = \"font-weight: bold; text-align: right;\">4</td><td style = \"text-align: right;\">8</td><td style = \"text-align: right;\">90.2809</td></tr><tr><td class = \"rowNumber\" style = \"font-weight: bold; text-align: right;\">5</td><td style = \"text-align: right;\">9</td><td style = \"text-align: right;\">80.6228</td></tr><tr><td class = \"rowNumber\" style = \"font-weight: bold; text-align: right;\">6</td><td style = \"text-align: right;\">10</td><td style = \"text-align: right;\">58.7448</td></tr></tbody></table></div>"
      ],
      "text/latex": [
       "\\begin{tabular}{r|cc}\n",
       "\t& Month & PW\\_rp\\\\\n",
       "\t\\hline\n",
       "\t& Int64 & Float64\\\\\n",
       "\t\\hline\n",
       "\t1 & 5 & 63.1963 \\\\\n",
       "\t2 & 6 & 85.3272 \\\\\n",
       "\t3 & 7 & 87.8987 \\\\\n",
       "\t4 & 8 & 90.2809 \\\\\n",
       "\t5 & 9 & 80.6228 \\\\\n",
       "\t6 & 10 & 58.7448 \\\\\n",
       "\\end{tabular}\n"
      ],
      "text/plain": [
       "\u001b[1m6×2 DataFrame\u001b[0m\n",
       "\u001b[1m Row \u001b[0m│\u001b[1m Month \u001b[0m\u001b[1m PW_rp   \u001b[0m\n",
       "     │\u001b[90m Int64 \u001b[0m\u001b[90m Float64 \u001b[0m\n",
       "─────┼────────────────\n",
       "   1 │     5  63.1963\n",
       "   2 │     6  85.3272\n",
       "   3 │     7  87.8987\n",
       "   4 │     8  90.2809\n",
       "   5 │     9  80.6228\n",
       "   6 │    10  58.7448"
      ]
     },
     "execution_count": 114,
     "metadata": {},
     "output_type": "execute_result"
    }
   ],
   "source": [
    "# PW dataset construction\n",
    "pw_sh = DataFrame(Date = sh_dew_hour.DateTime)\n",
    "pw_sh.PW = dewpoint_to_PW.(sh_dew_hour.Dew)\n",
    "\n",
    "pw_max_sh = PW_max(pw_sh.PW, pw_sh.Date)[2:7, :]                  # PW max for months of interest\n",
    "pw_100_sh = PW_return_period(pw_sh.PW, pw_sh.Date, 100)[2:7, :]   # PW 100 for months of interest"
   ]
  },
  {
   "attachments": {},
   "cell_type": "markdown",
   "id": "37c0a436",
   "metadata": {},
   "source": [
    "#### PMP"
   ]
  },
  {
   "cell_type": "code",
   "execution_count": 115,
   "id": "870b663f",
   "metadata": {},
   "outputs": [
    {
     "data": {
      "text/plain": [
       "435.5390728476822"
      ]
     },
     "execution_count": 115,
     "metadata": {},
     "output_type": "execute_result"
    }
   ],
   "source": [
    "pmp_max_sh = PMP_mm(storm_sh.Rain, pw_storm_sh.PW, storm_sh.Date, pw_max_sh.PW_max)"
   ]
  },
  {
   "cell_type": "code",
   "execution_count": 116,
   "id": "eeaeadd6",
   "metadata": {},
   "outputs": [
    {
     "data": {
      "text/plain": [
       "427.2693208985716"
      ]
     },
     "execution_count": 116,
     "metadata": {},
     "output_type": "execute_result"
    }
   ],
   "source": [
    "pmp_100_sh = PMP_mm(storm_sh.Rain, pw_storm_sh.PW, storm_sh.Date, pw_100_sh.PW_rp)"
   ]
  },
  {
   "attachments": {},
   "cell_type": "markdown",
   "id": "fd917cf8",
   "metadata": {},
   "source": [
    "## Hershfield K=15"
   ]
  },
  {
   "cell_type": "code",
   "execution_count": 18,
   "id": "e5ba367d",
   "metadata": {},
   "outputs": [
    {
     "data": {
      "text/plain": [
       "321.745147960414"
      ]
     },
     "execution_count": 18,
     "metadata": {},
     "output_type": "execute_result"
    }
   ],
   "source": [
    "sh_pmp_hershfield = PMP_Hershfield(data_sh.Rain, data_sh.Date, 15)"
   ]
  }
 ],
 "metadata": {
  "kernelspec": {
   "display_name": "Julia 1.9.3",
   "language": "julia",
   "name": "julia-1.9"
  },
  "language_info": {
   "file_extension": ".jl",
   "mimetype": "application/julia",
   "name": "julia",
   "version": "1.9.3"
  }
 },
 "nbformat": 4,
 "nbformat_minor": 5
}
